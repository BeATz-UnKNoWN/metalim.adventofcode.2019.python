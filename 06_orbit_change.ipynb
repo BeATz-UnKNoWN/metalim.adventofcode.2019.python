{
 "nbformat": 4,
 "nbformat_minor": 2,
 "metadata": {
  "language_info": {
   "name": "python",
   "codemirror_mode": {
    "name": "ipython",
    "version": 3
   },
   "version": "3.7.1"
  },
  "orig_nbformat": 2,
  "file_extension": ".py",
  "mimetype": "text/x-python",
  "name": "python",
  "npconvert_exporter": "python",
  "pygments_lexer": "ipython3",
  "version": 3
 },
 "cells": [
  {
   "cell_type": "code",
   "execution_count": 1,
   "metadata": {},
   "outputs": [],
   "source": [
    "with open('inputs/06.txt') as file:\n",
    "    input = file.read()\n"
   ]
  },
  {
   "cell_type": "code",
   "execution_count": 2,
   "metadata": {},
   "outputs": [
    {
     "data": {
      "text/plain": "(['PWT'], 'COM')"
     },
     "execution_count": 2,
     "metadata": {},
     "output_type": "execute_result"
    }
   ],
   "source": [
    "orbits = {}\n",
    "parents = {}\n",
    "\n",
    "for orbit in input.split():\n",
    "    k,v = orbit[:3], orbit[4:]\n",
    "    if k in orbits:\n",
    "        orbits[k].append(v)\n",
    "    else:\n",
    "        orbits[k] = [v]\n",
    "    parents[v] = k\n",
    "\n",
    "orbits['COM'], parents[orbits['COM'][0]]\n"
   ]
  },
  {
   "cell_type": "code",
   "execution_count": 3,
   "metadata": {},
   "outputs": [
    {
     "data": {
      "text/plain": "245089"
     },
     "execution_count": 3,
     "metadata": {},
     "output_type": "execute_result"
    }
   ],
   "source": [
    "def count(name, level):\n",
    "    total = level\n",
    "    if name in orbits:\n",
    "        for kid in orbits[name]:\n",
    "            total += count(kid, level+1)\n",
    "    return total\n",
    "\n",
    "count('COM',0)\n"
   ]
  },
  {
   "cell_type": "code",
   "execution_count": 4,
   "metadata": {},
   "outputs": [
    {
     "data": {
      "text/plain": "['COM', 'PWT', 'LNP', '7XQ', 'H65']"
     },
     "execution_count": 4,
     "metadata": {},
     "output_type": "execute_result"
    }
   ],
   "source": [
    "trace = {'YOU':[], 'SAN':[]}\n",
    "\n",
    "for t in trace:\n",
    "    k = t\n",
    "    while k in parents:\n",
    "        k = parents[k]\n",
    "        trace[t].append(k)\n",
    "    trace[t].reverse()\n",
    "\n",
    "trace['YOU'][:5]"
   ]
  },
  {
   "cell_type": "code",
   "execution_count": 5,
   "metadata": {},
   "outputs": [
    {
     "data": {
      "text/plain": "511"
     },
     "execution_count": 5,
     "metadata": {},
     "output_type": "execute_result"
    }
   ],
   "source": [
    "i = 0\n",
    "a = trace['YOU']\n",
    "b = trace['SAN']\n",
    "\n",
    "while a[i] == b[i]:\n",
    "    i += 1\n",
    "\n",
    "len(a)+len(b)-i*2\n"
   ]
  }
 ]
}