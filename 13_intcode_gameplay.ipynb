{
 "nbformat": 4,
 "nbformat_minor": 2,
 "metadata": {
  "language_info": {
   "name": "python",
   "codemirror_mode": {
    "name": "ipython",
    "version": 3
   },
   "version": "3.7.1"
  },
  "orig_nbformat": 2,
  "file_extension": ".py",
  "mimetype": "text/x-python",
  "name": "python",
  "npconvert_exporter": "python",
  "pygments_lexer": "ipython3",
  "version": 3
 },
 "cells": [
  {
   "cell_type": "code",
   "execution_count": 1,
   "metadata": {},
   "outputs": [],
   "source": [
    "with open('inputs/13.txt') as file:\n",
    "    input = file.read()\n"
   ]
  },
  {
   "cell_type": "code",
   "execution_count": 2,
   "metadata": {},
   "outputs": [],
   "source": [
    "TRACE = 0\n",
    "def run(mem):\n",
    "    i = 0\n",
    "    rel = 0\n",
    "    def get(j,m):\n",
    "        p = i+j\n",
    "        if m == 0:\n",
    "            p = mem[p]\n",
    "        elif m == 2:\n",
    "            p = mem[p] + rel\n",
    "        return p\n",
    "    while 1:\n",
    "        s = ('0000'+str(mem[i]))[-5:]\n",
    "        a,b,c,op = int(s[0]), int(s[1]), int(s[2]), int(s[3:])\n",
    "        if op == 1:\n",
    "            x = get(1,c)\n",
    "            y = get(2,b)\n",
    "            p = get(3,a)\n",
    "            if TRACE: print(f'{i}: {mem[x]}+{mem[y]}={mem[x] + mem[y]} @ {p}')\n",
    "            mem[p] = mem[x] + mem[y]\n",
    "            i += 4\n",
    "        elif op == 2:\n",
    "            x = get(1,c)\n",
    "            y = get(2,b)\n",
    "            p = get(3,a)\n",
    "            if TRACE: print(f'{i}: {mem[x]}*{mem[y]}={mem[x] * mem[y]} @ {p}')\n",
    "            mem[p] = mem[x] * mem[y]\n",
    "            i += 4\n",
    "        elif op == 3:\n",
    "            p = get(1,c)\n",
    "            mem[p] = yield\n",
    "            if TRACE: print(f'{i}: input {mem[p]} @ {p}')\n",
    "            i += 2\n",
    "        elif op == 4:\n",
    "            p = get(1,c)\n",
    "            if TRACE: print(f'{i}: out {mem[p]} @ {p}')\n",
    "            yield mem[p]\n",
    "            i += 2\n",
    "        elif op == 5:\n",
    "            x = get(1,c)\n",
    "            y = get(2,b)\n",
    "            if TRACE: print(f'{i}: if {mem[x]} jump {mem[y]}')\n",
    "            if mem[x]:\n",
    "                i = mem[y]\n",
    "            else:\n",
    "                i += 3\n",
    "        elif op == 6:\n",
    "            x = get(1,c)\n",
    "            y = get(2,b)\n",
    "            if TRACE: print(f'{i}: if not {mem[x]} jump {mem[y]}')\n",
    "            if not mem[x]:\n",
    "                i = mem[y]\n",
    "            else:\n",
    "                i += 3\n",
    "        elif op == 7:\n",
    "            x = get(1,c)\n",
    "            y = get(2,b)\n",
    "            p = get(3,a)\n",
    "            if TRACE: print(f'{i}: {mem[x]} < {mem[y]} => {p}')\n",
    "            mem[p] = int(mem[x] < mem[y])\n",
    "            i += 4\n",
    "        elif op == 8:\n",
    "            x = get(1,c)\n",
    "            y = get(2,b)\n",
    "            p = get(3,a)\n",
    "            if TRACE: print(f'{i}: {mem[x]} == {mem[y]} => {p}')\n",
    "            mem[p] = int(mem[x] == mem[y])\n",
    "            i += 4\n",
    "        elif op == 9:\n",
    "            x = get(1,c)\n",
    "            if TRACE: print(f'{i}: rel = {rel} + {mem[x]}')\n",
    "            rel += mem[x]\n",
    "            i += 2\n",
    "        elif op == 99:\n",
    "            return\n",
    "        else:\n",
    "            raise Exception('Unknown opcode', op)\n",
    "            break\n"
   ]
  },
  {
   "cell_type": "code",
   "execution_count": 3,
   "metadata": {},
   "outputs": [
    {
     "data": {
      "text/plain": "324"
     },
     "execution_count": 3,
     "metadata": {},
     "output_type": "execute_result"
    }
   ],
   "source": [
    "prog = list(map(int,input.split(','))) + [0]*100\n",
    "\n",
    "paint = {}\n",
    "proc = run(prog)\n",
    "try:\n",
    "    while 1:\n",
    "        a = next(proc)\n",
    "        b = next(proc)\n",
    "        c = next(proc)\n",
    "        paint[a,b] = c\n",
    "except StopIteration:\n",
    "    pass\n",
    "\n",
    "blocks = 0\n",
    "for k in paint:\n",
    "    if paint[k]==2: blocks += 1\n",
    "blocks"
   ]
  },
  {
   "cell_type": "code",
   "execution_count": 4,
   "metadata": {},
   "outputs": [
    {
     "data": {
      "text/plain": "15957"
     },
     "execution_count": 4,
     "metadata": {},
     "output_type": "execute_result"
    }
   ],
   "source": [
    "prog = list(map(int,input.split(','))) + [0]*100\n",
    "prog[0] = 2\n",
    "\n",
    "paint = {}\n",
    "score = 0\n",
    "ball = 0\n",
    "pad = 0\n",
    "proc = run(prog)\n",
    "try:\n",
    "    while 1:\n",
    "        abc = []\n",
    "        j = None\n",
    "        while len(abc)<3:\n",
    "            a = proc.send(j)\n",
    "            if a is None:\n",
    "                j = (pad<ball)-(pad>ball)\n",
    "            else:\n",
    "                abc.append(a)\n",
    "        if abc[0] == -1 and abc[1] == 0:\n",
    "            score = abc[2]\n",
    "        elif abc[2] == 3:\n",
    "            pad = abc[0]\n",
    "        elif abc[2] == 4:\n",
    "            ball = abc[0]\n",
    "        # print(a,b,c)\n",
    "except StopIteration:\n",
    "    pass\n",
    "score\n"
   ]
  },
  {
   "cell_type": "code",
   "execution_count": null,
   "metadata": {},
   "outputs": [],
   "source": []
  }
 ]
}