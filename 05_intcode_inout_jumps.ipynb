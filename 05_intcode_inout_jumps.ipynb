{
 "nbformat": 4,
 "nbformat_minor": 2,
 "metadata": {
  "language_info": {
   "name": "python",
   "codemirror_mode": {
    "name": "ipython",
    "version": 3
   },
   "version": "3.7.1"
  },
  "orig_nbformat": 2,
  "file_extension": ".py",
  "mimetype": "text/x-python",
  "name": "python",
  "npconvert_exporter": "python",
  "pygments_lexer": "ipython3",
  "version": 3
 },
 "cells": [
  {
   "cell_type": "code",
   "execution_count": 1,
   "metadata": {},
   "outputs": [],
   "source": [
    "with open('inputs/05.txt') as file:\n",
    "    input = file.read()\n"
   ]
  },
  {
   "cell_type": "code",
   "execution_count": 2,
   "metadata": {},
   "outputs": [],
   "source": [
    "def run1(mem, inp):\n",
    "    i = 0\n",
    "    def get(j,m):\n",
    "        p = i+j\n",
    "        if m == 0:\n",
    "            p = mem[p]\n",
    "        return p\n",
    "    while 1:\n",
    "        s = ('0000'+str(mem[i]))[-5:]\n",
    "        a,b,c,op = int(s[0]), int(s[1]), int(s[2]), int(s[3:])\n",
    "        if op == 1:\n",
    "            x = get(1,c)\n",
    "            y = get(2,b)\n",
    "            p = get(3,a)\n",
    "            mem[p] = mem[x] + mem[y]\n",
    "            i += 4\n",
    "        elif op == 2:\n",
    "            x = get(1,c)\n",
    "            y = get(2,b)\n",
    "            p = get(3,a)\n",
    "            mem[p] = mem[x] * mem[y]\n",
    "            i += 4\n",
    "        elif op == 3:\n",
    "            p = get(1,c)\n",
    "            mem[p] = inp\n",
    "            i += 2\n",
    "        elif op == 4:\n",
    "            p = get(1,c)\n",
    "            print('->', mem[p])\n",
    "            i += 2\n",
    "        elif op == 99:\n",
    "            break\n",
    "        else:\n",
    "            print('Unknown opcode', op)\n",
    "            break\n",
    "       "
   ]
  },
  {
   "cell_type": "code",
   "execution_count": 3,
   "metadata": {},
   "outputs": [
    {
     "name": "stdout",
     "output_type": "stream",
     "text": "-> 0\n-> 0\n-> 0\n-> 0\n-> 0\n-> 0\n-> 0\n-> 0\n-> 0\n-> 13978427\n"
    }
   ],
   "source": [
    "ns = list(map(int, input.split(',')))\n",
    "run1(ns, 1)"
   ]
  },
  {
   "cell_type": "code",
   "execution_count": 4,
   "metadata": {},
   "outputs": [],
   "source": [
    "def run2(mem, inp):\n",
    "    i = 0\n",
    "    def get(j,m):\n",
    "        p = i+j\n",
    "        if m == 0:\n",
    "            p = mem[p]\n",
    "        return p\n",
    "    while 1:\n",
    "        s = ('0000'+str(mem[i]))[-5:]\n",
    "        a,b,c,op = int(s[0]), int(s[1]), int(s[2]), int(s[3:])\n",
    "        if op == 1:\n",
    "            x = get(1,c)\n",
    "            y = get(2,b)\n",
    "            p = get(3,a)\n",
    "            mem[p] = mem[x] + mem[y]\n",
    "            i += 4\n",
    "        elif op == 2:\n",
    "            x = get(1,c)\n",
    "            y = get(2,b)\n",
    "            p = get(3,a)\n",
    "            mem[p] = mem[x] * mem[y]\n",
    "            i += 4\n",
    "        elif op == 3:\n",
    "            p = get(1,c)\n",
    "            mem[p] = inp\n",
    "            i += 2\n",
    "        elif op == 4:\n",
    "            p = get(1,c)\n",
    "            print('->', mem[p])\n",
    "            i += 2\n",
    "        elif op == 5:\n",
    "            x = get(1,c)\n",
    "            y = get(2,b)\n",
    "            if mem[x]:\n",
    "                i = mem[y]\n",
    "            else:\n",
    "                i += 3\n",
    "        elif op == 6:\n",
    "            x = get(1,c)\n",
    "            y = get(2,b)\n",
    "            if not mem[x]:\n",
    "                i = mem[y]\n",
    "            else:\n",
    "                i += 3\n",
    "        elif op == 7:\n",
    "            x = get(1,c)\n",
    "            y = get(2,b)\n",
    "            p = get(3,a)\n",
    "            mem[p] = int(mem[x] < mem[y])\n",
    "            i += 4\n",
    "        elif op == 8:\n",
    "            x = get(1,c)\n",
    "            y = get(2,b)\n",
    "            p = get(3,a)\n",
    "            mem[p] = int(mem[x] == mem[y])\n",
    "            i += 4\n",
    "        elif op == 99:\n",
    "            break\n",
    "        else:\n",
    "            print('Unknown opcode', op)\n",
    "            break\n",
    "       "
   ]
  },
  {
   "cell_type": "code",
   "execution_count": 5,
   "metadata": {},
   "outputs": [
    {
     "name": "stdout",
     "output_type": "stream",
     "text": "-> 11189491\n"
    }
   ],
   "source": [
    "ns = list(map(int, input.split(',')))\n",
    "run2(ns, 5)"
   ]
  }
 ]
}