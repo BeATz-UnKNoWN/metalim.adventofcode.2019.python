{
 "cells": [
  {
   "cell_type": "code",
   "execution_count": 1,
   "metadata": {},
   "outputs": [],
   "source": [
    "with open('inputs/03.txt') as file:\n",
    "    input = file.read()"
   ]
  },
  {
   "cell_type": "code",
   "execution_count": 2,
   "metadata": {},
   "outputs": [],
   "source": [
    "import numpy as np"
   ]
  },
  {
   "cell_type": "code",
   "execution_count": 9,
   "metadata": {},
   "outputs": [
    {
     "data": {
      "text/plain": [
       "4981"
      ]
     },
     "execution_count": 9,
     "metadata": {},
     "output_type": "execute_result"
    }
   ],
   "source": [
    "def run1():\n",
    "    w1,w2 = map((lambda w: w.split(',')), input.split())\n",
    "    field = np.zeros((30000,30000))\n",
    "    x0,y0 = 15000,15000\n",
    "    x,y = x0,y0\n",
    "    ds = {'D':(0,-1),'U':(0,1),'L':(-1,0),'R':(1,0)}\n",
    "    closest = float('inf')\n",
    "    for w in w1:\n",
    "        d = w[0]\n",
    "        l = int(w[1:])\n",
    "        dx,dy = ds[d]\n",
    "        for i in range(0, l):\n",
    "            x += dx\n",
    "            y += dy\n",
    "            field[x,y] = 1\n",
    "    x,y = x0,y0\n",
    "    for w in w2:\n",
    "        d = w[0]\n",
    "        l = int(w[1:])\n",
    "        dx,dy = ds[d]\n",
    "        for i in range(0, l):\n",
    "            x += dx\n",
    "            y += dy\n",
    "            if field[x,y] == 0:\n",
    "                continue\n",
    "            dist = abs(x-x0) + abs(y-y0)\n",
    "            if dist < closest:\n",
    "                closest = dist\n",
    "    return closest\n",
    "\n",
    "run1()"
   ]
  },
  {
   "cell_type": "code",
   "execution_count": 10,
   "metadata": {},
   "outputs": [
    {
     "data": {
      "text/plain": [
       "164012"
      ]
     },
     "execution_count": 10,
     "metadata": {},
     "output_type": "execute_result"
    }
   ],
   "source": [
    "def run2():\n",
    "    w1,w2 = map((lambda w: w.split(',')), input.split())\n",
    "    x0,y0 = 15000,15000\n",
    "    field = np.zeros((x0*2,y0*2), int)\n",
    "    x,y = x0,y0\n",
    "    ds = {'D':(0,1),'U':(0,-1),'L':(-1,0),'R':(1,0)}\n",
    "    closest = float('inf')\n",
    "    l1 = 0\n",
    "    for w in w1:\n",
    "        d = w[0]\n",
    "        l = int(w[1:])\n",
    "        dx,dy = ds[d]\n",
    "        for i in range(0, l):\n",
    "            x += dx\n",
    "            y += dy\n",
    "            l1 += 1\n",
    "            if field[x,y] == 0: field[y,x] = l1\n",
    "    l2 = 0\n",
    "    x,y = x0,y0\n",
    "    for w in w2:\n",
    "        d = w[0]\n",
    "        l = int(w[1:])\n",
    "        dx,dy = ds[d]\n",
    "        for i in range(0, l):\n",
    "            x += dx\n",
    "            y += dy\n",
    "            l2 += 1\n",
    "            if field[y,x] == 0:\n",
    "                continue\n",
    "\n",
    "            dist = l2 + field[y,x]\n",
    "            if dist < closest:\n",
    "                closest = dist\n",
    "    return closest\n",
    "\n",
    "run2()"
   ]
  }
 ],
 "metadata": {
  "kernelspec": {
   "display_name": "Python 3",
   "language": "python",
   "name": "python3"
  },
  "language_info": {
   "codemirror_mode": {
    "name": "ipython",
    "version": 3
   },
   "file_extension": ".py",
   "mimetype": "text/x-python",
   "name": "python",
   "nbconvert_exporter": "python",
   "pygments_lexer": "ipython3",
   "version": "3.7.4"
  }
 },
 "nbformat": 4,
 "nbformat_minor": 2
}
