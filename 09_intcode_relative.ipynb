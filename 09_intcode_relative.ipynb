{
 "nbformat": 4,
 "nbformat_minor": 2,
 "metadata": {
  "language_info": {
   "name": "python",
   "codemirror_mode": {
    "name": "ipython",
    "version": 3
   },
   "version": "3.7.1"
  },
  "orig_nbformat": 2,
  "file_extension": ".py",
  "mimetype": "text/x-python",
  "name": "python",
  "npconvert_exporter": "python",
  "pygments_lexer": "ipython3",
  "version": 3
 },
 "cells": [
  {
   "cell_type": "code",
   "execution_count": 1,
   "metadata": {},
   "outputs": [],
   "source": [
    "with open('inputs/09.txt') as file:\n",
    "    input = file.read()\n"
   ]
  },
  {
   "cell_type": "code",
   "execution_count": 2,
   "metadata": {},
   "outputs": [],
   "source": [
    "TRACE = 0\n",
    "def run(mem):\n",
    "    i = 0\n",
    "    rel = 0\n",
    "    def get(j,m):\n",
    "        p = i+j\n",
    "        if m == 0:\n",
    "            p = mem[p]\n",
    "        elif m == 2:\n",
    "            p = mem[p] + rel\n",
    "        return p\n",
    "    while 1:\n",
    "        s = ('0000'+str(mem[i]))[-5:]\n",
    "        a,b,c,op = int(s[0]), int(s[1]), int(s[2]), int(s[3:])\n",
    "        if op == 1:\n",
    "            x = get(1,c)\n",
    "            y = get(2,b)\n",
    "            p = get(3,a)\n",
    "            if TRACE: print(f'{i}: {mem[x]}+{mem[y]}={mem[x] + mem[y]} @ {p}')\n",
    "            mem[p] = mem[x] + mem[y]\n",
    "            i += 4\n",
    "        elif op == 2:\n",
    "            x = get(1,c)\n",
    "            y = get(2,b)\n",
    "            p = get(3,a)\n",
    "            if TRACE: print(f'{i}: {mem[x]}*{mem[y]}={mem[x] * mem[y]} @ {p}')\n",
    "            mem[p] = mem[x] * mem[y]\n",
    "            i += 4\n",
    "        elif op == 3:\n",
    "            p = get(1,c)\n",
    "            mem[p] = yield 'input'\n",
    "            if TRACE: print(f'{i}: input {mem[p]} @ {p}')\n",
    "            i += 2\n",
    "        elif op == 4:\n",
    "            p = get(1,c)\n",
    "            if TRACE: print(f'{i}: out {mem[p]} @ {p}')\n",
    "            yield mem[p]\n",
    "            i += 2\n",
    "        elif op == 5:\n",
    "            x = get(1,c)\n",
    "            y = get(2,b)\n",
    "            if TRACE: print(f'{i}: if {mem[x]} jump {mem[y]}')\n",
    "            if mem[x]:\n",
    "                i = mem[y]\n",
    "            else:\n",
    "                i += 3\n",
    "        elif op == 6:\n",
    "            x = get(1,c)\n",
    "            y = get(2,b)\n",
    "            if TRACE: print(f'{i}: if not {mem[x]} jump {mem[y]}')\n",
    "            if not mem[x]:\n",
    "                i = mem[y]\n",
    "            else:\n",
    "                i += 3\n",
    "        elif op == 7:\n",
    "            x = get(1,c)\n",
    "            y = get(2,b)\n",
    "            p = get(3,a)\n",
    "            if TRACE: print(f'{i}: {mem[x]} < {mem[y]} => {p}')\n",
    "            mem[p] = int(mem[x] < mem[y])\n",
    "            i += 4\n",
    "        elif op == 8:\n",
    "            x = get(1,c)\n",
    "            y = get(2,b)\n",
    "            p = get(3,a)\n",
    "            if TRACE: print(f'{i}: {mem[x]} == {mem[y]} => {p}')\n",
    "            mem[p] = int(mem[x] == mem[y])\n",
    "            i += 4\n",
    "        elif op == 9:\n",
    "            x = get(1,c)\n",
    "            if TRACE: print(f'{i}: rel = {rel} + {mem[x]}')\n",
    "            rel += mem[x]\n",
    "            i += 2\n",
    "        elif op == 99:\n",
    "            return\n",
    "        else:\n",
    "            raise Exception('Unknown opcode', op)\n",
    "            break\n"
   ]
  },
  {
   "cell_type": "code",
   "execution_count": 3,
   "metadata": {},
   "outputs": [
    {
     "name": "stdout",
     "output_type": "stream",
     "text": "input\n3533056970\nWall time: 408 ms\n"
    }
   ],
   "source": [
    "%%time\n",
    "\n",
    "# TRACE = 1\n",
    "# prog = [109,1,204,-1,1001,100,1,100,1008,100,16,101,1006,101,0,99] + [0]*1000\n",
    "# prog = [1102,34915192,34915192,7,4,7,99,0] + [0]*40000000\n",
    "prog = list(map(int, input.split(',')))\n",
    "prog += [0]*40000000\n",
    "\n",
    "try:\n",
    "    proc = run(prog)\n",
    "    print(next(proc))\n",
    "    print(proc.send(1))\n",
    "    while 1:\n",
    "        print(next(proc))\n",
    "except StopIteration:\n",
    "    pass\n"
   ]
  },
  {
   "cell_type": "code",
   "execution_count": 4,
   "metadata": {},
   "outputs": [
    {
     "name": "stdout",
     "output_type": "stream",
     "text": "input\n72852\nWall time: 1.11 s\n"
    }
   ],
   "source": [
    "%%time\n",
    "\n",
    "prog = list(map(int, input.split(',')))\n",
    "prog += [0]*40000000\n",
    "\n",
    "try:\n",
    "    proc = run(prog)\n",
    "    print(next(proc))\n",
    "    print(proc.send(2))\n",
    "    while 1:\n",
    "        print(next(proc))\n",
    "except StopIteration:\n",
    "    pass\n"
   ]
  },
  {
   "cell_type": "code",
   "execution_count": null,
   "metadata": {},
   "outputs": [],
   "source": []
  }
 ]
}