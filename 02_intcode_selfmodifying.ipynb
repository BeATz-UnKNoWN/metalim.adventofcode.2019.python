{
 "cells": [
  {
   "cell_type": "code",
   "execution_count": 1,
   "metadata": {},
   "outputs": [],
   "source": [
    "with open('inputs/02.txt', 'r') as file:\n",
    "    input = file.read()"
   ]
  },
  {
   "cell_type": "code",
   "execution_count": 2,
   "metadata": {},
   "outputs": [],
   "source": [
    "def run(mem):\n",
    "    i = 0\n",
    "    while 1:\n",
    "        op = mem[i]\n",
    "        if op == 1:\n",
    "            mem[mem[i+3]] = mem[mem[i+1]] + mem[mem[i+2]]\n",
    "        elif op == 2:\n",
    "            mem[mem[i+3]] = mem[mem[i+1]] * mem[mem[i+2]]\n",
    "        elif op == 99:\n",
    "            break\n",
    "        else:\n",
    "            print(\"invalid opcode\", op)\n",
    "        i += 4\n",
    "    return mem[0]\n"
   ]
  },
  {
   "cell_type": "code",
   "execution_count": 3,
   "metadata": {},
   "outputs": [
    {
     "data": {
      "text/plain": [
       "3101844"
      ]
     },
     "execution_count": 3,
     "metadata": {},
     "output_type": "execute_result"
    }
   ],
   "source": [
    "# mem = [1,0,0,0,99]\n",
    "# mem = [2,3,0,3,99]\n",
    "# mem = [2,4,4,5,99,0]\n",
    "# mem = [1,1,1,4,99,5,6,0,99]\n",
    "\n",
    "mem = list(map(int, input.split(',')))\n",
    "mem[1] = 12\n",
    "mem[2] = 2\n",
    "\n",
    "run(mem)"
   ]
  },
  {
   "cell_type": "code",
   "execution_count": 4,
   "metadata": {},
   "outputs": [
    {
     "data": {
      "text/plain": [
       "(84, 78)"
      ]
     },
     "execution_count": 4,
     "metadata": {},
     "output_type": "execute_result"
    }
   ],
   "source": [
    "def run2():\n",
    "    for a in range(0,100):\n",
    "        for b in range(0,100):\n",
    "            mem = list(map(int, input.split(',')))\n",
    "            mem[1] = a\n",
    "            mem[2] = b\n",
    "            if run(mem) == 19690720:\n",
    "                return a,b\n",
    "run2()"
   ]
  }
 ],
 "metadata": {
  "kernelspec": {
   "display_name": "Python 3",
   "language": "python",
   "name": "python3"
  },
  "language_info": {
   "codemirror_mode": {
    "name": "ipython",
    "version": 3
   },
   "file_extension": ".py",
   "mimetype": "text/x-python",
   "name": "python",
   "nbconvert_exporter": "python",
   "pygments_lexer": "ipython3",
   "version": "3.7.4"
  }
 },
 "nbformat": 4,
 "nbformat_minor": 2
}
