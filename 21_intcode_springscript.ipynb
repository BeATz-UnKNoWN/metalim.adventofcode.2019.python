{
 "nbformat": 4,
 "nbformat_minor": 2,
 "metadata": {
  "language_info": {
   "name": "python",
   "codemirror_mode": {
    "name": "ipython",
    "version": 3
   },
   "version": "3.7.1"
  },
  "orig_nbformat": 2,
  "file_extension": ".py",
  "mimetype": "text/x-python",
  "name": "python",
  "npconvert_exporter": "python",
  "pygments_lexer": "ipython3",
  "version": 3
 },
 "cells": [
  {
   "cell_type": "code",
   "execution_count": 1,
   "metadata": {},
   "outputs": [],
   "source": [
    "import intcode\n",
    "\n",
    "with open('inputs/21.txt') as file:\n",
    "    input = file.read()\n"
   ]
  },
  {
   "cell_type": "code",
   "execution_count": 2,
   "metadata": {},
   "outputs": [
    {
     "name": "stdout",
     "output_type": "stream",
     "text": "Input instructions:\n\nOR A J\nAND B J\nAND C J\nNOT J J\nAND D J\nWALK\n\n\nWalking...\n\ngot number 19359316\nstopped\n"
    },
    {
     "data": {
      "text/plain": "19359316"
     },
     "execution_count": 2,
     "metadata": {},
     "output_type": "execute_result"
    }
   ],
   "source": [
    "prog = intcode.parse(input)\n",
    "proc = intcode.run(prog)\n",
    "intcode.readASCII(proc)\n",
    "\n",
    "p = '''OR A J\n",
    "AND B J\n",
    "AND C J\n",
    "NOT J J\n",
    "AND D J\n",
    "WALK\n",
    "'''\n",
    "\n",
    "intcode.sendASCII(proc, p)\n"
   ]
  },
  {
   "cell_type": "code",
   "execution_count": 3,
   "metadata": {},
   "outputs": [
    {
     "name": "stdout",
     "output_type": "stream",
     "text": "Input instructions:\n\nOR A J\nAND B J\nAND C J\nNOT J J\nAND D J\nOR E T\nOR H T\nAND T J\nRUN\n\n\nRunning...\n\ngot number 1141281622\nstopped\n"
    },
    {
     "data": {
      "text/plain": "1141281622"
     },
     "execution_count": 3,
     "metadata": {},
     "output_type": "execute_result"
    }
   ],
   "source": [
    "prog = intcode.parse(input)\n",
    "proc = intcode.run(prog)\n",
    "intcode.readASCII(proc)\n",
    "\n",
    "p = '''OR A J\n",
    "AND B J\n",
    "AND C J\n",
    "NOT J J\n",
    "AND D J\n",
    "OR E T\n",
    "OR H T\n",
    "AND T J\n",
    "RUN\n",
    "'''\n",
    "\n",
    "intcode.sendASCII(proc, p)\n"
   ]
  },
  {
   "cell_type": "code",
   "execution_count": null,
   "metadata": {},
   "outputs": [],
   "source": []
  }
 ]
}