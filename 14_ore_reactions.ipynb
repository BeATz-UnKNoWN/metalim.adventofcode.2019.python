{
 "nbformat": 4,
 "nbformat_minor": 2,
 "metadata": {
  "language_info": {
   "name": "python",
   "codemirror_mode": {
    "name": "ipython",
    "version": 3
   },
   "version": "3.7.1"
  },
  "orig_nbformat": 2,
  "file_extension": ".py",
  "mimetype": "text/x-python",
  "name": "python",
  "npconvert_exporter": "python",
  "pygments_lexer": "ipython3",
  "version": 3
 },
 "cells": [
  {
   "cell_type": "code",
   "execution_count": 1,
   "metadata": {},
   "outputs": [],
   "source": [
    "import math\n",
    "\n",
    "with open('inputs/14.txt') as file:\n",
    "    input = file.read()\n"
   ]
  },
  {
   "cell_type": "code",
   "execution_count": 2,
   "metadata": {},
   "outputs": [
    {
     "name": "stdout",
     "output_type": "stream",
     "text": "Wall time: 0 ns\n"
    },
    {
     "data": {
      "text/plain": "(1,\n {'BNVTZ': 4,\n  'KXFJ': 13,\n  'QRBK': 14,\n  'SJSLP': 56,\n  'SPFP': 18,\n  'WMVD': 9,\n  'JFXPH': 12,\n  'MHXF': 1})"
     },
     "execution_count": 2,
     "metadata": {},
     "output_type": "execute_result"
    }
   ],
   "source": [
    "%%time\n",
    "\n",
    "reacts = {}\n",
    "for row in input.split('\\n'):\n",
    "    l,r = row.split(' => ')\n",
    "    rq,rn = r.split(' ')\n",
    "    ls = {}\n",
    "    for lv in l.split(', '):\n",
    "        lvq,lvn = lv.split(' ')\n",
    "        ls[lvn] = int(lvq)\n",
    "    reacts[rn] = (int(rq),ls)\n",
    "\n",
    "reacts['FUEL']\n"
   ]
  },
  {
   "cell_type": "code",
   "execution_count": 3,
   "metadata": {},
   "outputs": [
    {
     "name": "stdout",
     "output_type": "stream",
     "text": "Wall time: 0 ns\n"
    },
    {
     "data": {
      "text/plain": "319014"
     },
     "execution_count": 3,
     "metadata": {},
     "output_type": "execute_result"
    }
   ],
   "source": [
    "%%time\n",
    "\n",
    "def getore(fuel):\n",
    "    got = {k:0 for k in reacts}\n",
    "    need = {k:0 for k in reacts}\n",
    "    got['ORE'] = need['ORE'] = 0\n",
    "    need['FUEL'] = fuel\n",
    "    needs = fuel\n",
    "    while needs>0:\n",
    "        for c in need:\n",
    "            if c == 'ORE' or need[c] == 0:\n",
    "                continue\n",
    "            add = need[c]-got[c]\n",
    "            if add>0:\n",
    "                repeat = math.ceil(add / reacts[c][0])\n",
    "                got[c] += reacts[c][0] * repeat\n",
    "                for c2, need2 in reacts[c][1].items():\n",
    "                    need[c2] += need2 * repeat\n",
    "                    if c2 != 'ORE': needs += need2 * repeat\n",
    "            got[c] -= need[c]\n",
    "            needs -= need[c]\n",
    "            need[c] = 0\n",
    "\n",
    "    for k,v in need.items():\n",
    "        if k!='ORE' and v!=0:\n",
    "            print('something wrong:', k, v)\n",
    "\n",
    "    return need['ORE']\n",
    "\n",
    "getore(1)\n"
   ]
  },
  {
   "cell_type": "code",
   "execution_count": 4,
   "metadata": {},
   "outputs": [
    {
     "name": "stdout",
     "output_type": "stream",
     "text": "Wall time: 5.98 ms\n"
    },
    {
     "data": {
      "text/plain": "(4076490, '999,999,984,527', '1,000,000,228,642')"
     },
     "execution_count": 4,
     "metadata": {},
     "output_type": "execute_result"
    }
   ],
   "source": [
    "%%time\n",
    "\n",
    "ore1 = getore(1)\n",
    "goal = 1000**4\n",
    "maxfuel = goal // ore1\n",
    "l = maxfuel\n",
    "r = maxfuel * 2\n",
    "while l<=r:\n",
    "    mid = l+(r-l)//2\n",
    "    if getore(mid) < goal:\n",
    "        maxfuel = mid\n",
    "        l = mid + 1\n",
    "    else:\n",
    "        r = mid - 1\n",
    "\n",
    "maxfuel, '{:,}'.format(getore(maxfuel)), '{:,}'.format(getore(maxfuel+1))\n"
   ]
  },
  {
   "cell_type": "code",
   "execution_count": null,
   "metadata": {},
   "outputs": [],
   "source": []
  }
 ]
}