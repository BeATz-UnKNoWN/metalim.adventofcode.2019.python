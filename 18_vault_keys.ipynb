{
 "nbformat": 4,
 "nbformat_minor": 2,
 "metadata": {
  "language_info": {
   "name": "python",
   "codemirror_mode": {
    "name": "ipython",
    "version": 3
   },
   "version": "3.7.5"
  },
  "orig_nbformat": 2,
  "file_extension": ".py",
  "mimetype": "text/x-python",
  "name": "python",
  "npconvert_exporter": "python",
  "pygments_lexer": "ipython3",
  "version": 3
 },
 "cells": [
  {
   "cell_type": "code",
   "execution_count": 50,
   "metadata": {},
   "outputs": [],
   "source": [
    "from collections import defaultdict\n",
    "from itertools import count\n",
    "\n",
    "with open('inputs/18.txt') as file:\n",
    "    input = file.read()\n"
   ]
  },
  {
   "cell_type": "code",
   "execution_count": 53,
   "metadata": {},
   "outputs": [],
   "source": [
    "def shortest():\n",
    "    maze = {}\n",
    "    goals = {}\n",
    "    keys = {}\n",
    "    doors = {}\n",
    "    for y,row in enumerate(input.split('\\n')):\n",
    "        for x,cell in enumerate(row):\n",
    "            p = complex(x,y)\n",
    "            maze[p] = cell\n",
    "            if cell in '#.': continue\n",
    "            goals[cell] = p\n",
    "            if cell.islower(): keys[cell] = p\n",
    "            elif cell.isupper(): doors[cell] = p\n",
    "\n",
    "    print('start',goals['@'],'keys',len(keys),'doors',len(doors))\n",
    "    dist = defaultdict(lambda:99999)\n",
    "    dist[goals['@']] = 0\n",
    "    next = [goals['@']]\n",
    "\n",
    "    akeys = {}\n",
    "    adoors = {}\n",
    "    for step in count(1):\n",
    "        if len(next)==0: break\n",
    "        cur,next = next,[]\n",
    "        for p in cur:\n",
    "            for d in [1,1j,-1,-1j]:\n",
    "                c = maze[p+d]\n",
    "                if c == '#' or dist[p+d]<=step: continue\n",
    "                if c.islower(): akeys[c] = step\n",
    "                if c.isupper(): adoors[c] = step\n",
    "                if c.isupper(): continue\n",
    "                dist[p+d] = step\n",
    "                next.append(p+d)\n",
    "\n",
    "    print(len(akeys),akeys)\n",
    "    print(len(adoors),adoors)\n",
    "\n"
   ]
  },
  {
   "cell_type": "code",
   "execution_count": 54,
   "metadata": {},
   "outputs": [
    {
     "name": "stdout",
     "output_type": "stream",
     "text": "start (40+40j) keys 26 doors 26\n7 {'d': 10, 'k': 36, 'l': 48, 'a': 72, 'g': 142, 'x': 182, 'h': 198}\n6 {'D': 21, 'K': 45, 'L': 59, 'O': 101, 'S': 171, 'B': 303}\nCPU times: user 10.1 ms, sys: 1.66 ms, total: 11.7 ms\nWall time: 11.7 ms\n"
    }
   ],
   "source": [
    "%%time\n",
    "\n",
    "shortest()\n",
    "\n"
   ]
  },
  {
   "cell_type": "code",
   "execution_count": null,
   "metadata": {},
   "outputs": [],
   "source": []
  }
 ]
}