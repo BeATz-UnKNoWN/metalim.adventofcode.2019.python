{
 "nbformat": 4,
 "nbformat_minor": 2,
 "metadata": {
  "language_info": {
   "name": "python",
   "codemirror_mode": {
    "name": "ipython",
    "version": 3
   },
   "version": "3.7.1"
  },
  "orig_nbformat": 2,
  "file_extension": ".py",
  "mimetype": "text/x-python",
  "name": "python",
  "npconvert_exporter": "python",
  "pygments_lexer": "ipython3",
  "version": 3
 },
 "cells": [
  {
   "cell_type": "code",
   "execution_count": 1,
   "metadata": {},
   "outputs": [],
   "source": [
    "from collections import defaultdict\n",
    "from itertools import count\n",
    "\n",
    "with open('inputs/18.txt') as file:\n",
    "    input = file.read()\n"
   ]
  },
  {
   "cell_type": "code",
   "execution_count": 12,
   "metadata": {},
   "outputs": [],
   "source": [
    "def shortest():\n",
    "    maze = {}\n",
    "    goals = {}\n",
    "    # keys = {}\n",
    "    # doors = {}\n",
    "    for y,row in enumerate(input.split('\\n')):\n",
    "        for x,cell in enumerate(row):\n",
    "            p = complex(x,y)\n",
    "            maze[p] = cell\n",
    "            if cell in '#.': continue\n",
    "            goals[cell] = p\n",
    "            # if cell.islower(): keys[cell] = p\n",
    "            # elif cell.isupper(): doors[cell] = p\n",
    "\n",
    "    print('start',goals['@'],'keys+doors+1',len(goals))\n",
    "\n",
    "    def linksFrom(start):\n",
    "        links = {}\n",
    "        walk = defaultdict(lambda:[99999,''])\n",
    "        walk[start] = (0,'')\n",
    "        next = [(start,'')]\n",
    "\n",
    "        for step in count(1):\n",
    "            if len(next)==0: break\n",
    "            cur,next = next,[]\n",
    "            for p,ds in cur:\n",
    "                for d in [1,1j,-1,-1j]:\n",
    "                    c = maze[p+d]\n",
    "                    if c == '#' or walk[p+d][0]<=step: continue\n",
    "                    if c.islower():\n",
    "                        # akeys[c] = step\n",
    "                        links[c] = (step,ds)\n",
    "                    nds = ds\n",
    "                    if c.isupper():\n",
    "                        nds += c\n",
    "                        # adoors[c] = step\n",
    "                        # continue\n",
    "                    walk[p+d] = (step,nds)\n",
    "                    next.append((p+d,nds))\n",
    "        return links\n",
    "\n",
    "    keylinks = {}\n",
    "    for k,start in goals.items():\n",
    "        if k.islower():\n",
    "            keylinks[k] = linksFrom(start)\n",
    "\n",
    "\n",
    "    startLinks = linksFrom(goals['@'])\n",
    "    print(startLinks)\n",
    "\n"
   ]
  },
  {
   "cell_type": "code",
   "execution_count": 13,
   "metadata": {},
   "outputs": [
    {
     "name": "stdout",
     "output_type": "stream",
     "text": "start (40+40j) keys+doors+1 53\n{'d': (10, ''), 'k': (36, ''), 'l': (48, ''), 'a': (72, ''), 'o': (88, 'L'), 'q': (110, 'DA'), 'm': (124, 'OQ'), 'g': (142, ''), 's': (160, 'LG'), 'x': (182, ''), 'h': (198, ''), 'z': (222, 'OQ'), 'c': (234, 'DM'), 'w': (256, 'LGH'), 'j': (272, 'LGH'), 'b': (290, 'LGH'), 'i': (314, 'B'), 'f': (326, 'OQ'), 'r': (350, 'DMJ'), 'v': (366, 'DMJF'), 't': (386, 'DMJF'), 'y': (400, 'DMJF'), 'u': (418, 'DMJF'), 'n': (438, 'DMJF'), 'e': (462, 'LGHIRVYUN'), 'p': (482, 'LGHIRVYUNE')}\nWall time: 163 ms\n"
    }
   ],
   "source": [
    "%%time\n",
    "\n",
    "shortest()\n",
    "\n"
   ]
  },
  {
   "cell_type": "code",
   "execution_count": null,
   "metadata": {},
   "outputs": [],
   "source": []
  }
 ]
}