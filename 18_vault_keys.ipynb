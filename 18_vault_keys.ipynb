{
 "nbformat": 4,
 "nbformat_minor": 2,
 "metadata": {
  "language_info": {
   "name": "python",
   "codemirror_mode": {
    "name": "ipython",
    "version": 3
   },
   "version": "3.7.1"
  },
  "orig_nbformat": 2,
  "file_extension": ".py",
  "mimetype": "text/x-python",
  "name": "python",
  "npconvert_exporter": "python",
  "pygments_lexer": "ipython3",
  "version": 3
 },
 "cells": [
  {
   "cell_type": "code",
   "execution_count": 1,
   "metadata": {},
   "outputs": [],
   "source": [
    "from collections import defaultdict\n",
    "from itertools import count\n",
    "\n",
    "with open('inputs/18.txt') as file:\n",
    "    input = file.read()\n"
   ]
  },
  {
   "cell_type": "code",
   "execution_count": 2,
   "metadata": {},
   "outputs": [],
   "source": [
    "def parseInput(input):\n",
    "    maze = {}\n",
    "    goals = {}\n",
    "    for y,row in enumerate(input.split('\\n')):\n",
    "        for x,cell in enumerate(row):\n",
    "            p = complex(x,y)\n",
    "            maze[p] = cell\n",
    "            if cell in '#.': continue\n",
    "            goals[cell] = p\n",
    "    return maze, goals\n",
    "\n",
    "def findLinks(maze, start):\n",
    "    links = {}\n",
    "    walk = defaultdict(lambda:[99999,{}])\n",
    "    walk[start] = (0,set())\n",
    "    next = [(start,set())]\n",
    "\n",
    "    for step in count(1):\n",
    "        if len(next)==0: break\n",
    "        cur,next = next,[]\n",
    "        for p,ds in cur:\n",
    "            for d in [1,1j,-1,-1j]:\n",
    "                c = maze[p+d]\n",
    "                if c == '#' or walk[p+d][0]<=step: continue\n",
    "                if c.islower():\n",
    "                    links[c] = (step,ds)\n",
    "                nds = ds\n",
    "                if c.isupper():\n",
    "                    nds = nds | {c.lower()}\n",
    "                walk[p+d] = (step,nds)\n",
    "                next.append((p+d,nds))\n",
    "    return links # naturally sorted by distance\n"
   ]
  },
  {
   "cell_type": "code",
   "execution_count": 3,
   "metadata": {},
   "outputs": [],
   "source": [
    "\n",
    "def findShortest1():\n",
    "    maze, goals = parseInput(input)\n",
    "\n",
    "    allKeys = {k for k in goals if k.islower()}\n",
    "    keylinks = {'@': findLinks(maze, goals['@'])}\n",
    "    for k in allKeys:\n",
    "        keylinks[k] = findLinks(maze, goals[k])\n",
    "\n",
    "    cache = {}\n",
    "    def walk(name, needKeys):\n",
    "        if len(needKeys)==0:\n",
    "            return 0\n",
    "\n",
    "        key = name + ''.join(needKeys)\n",
    "        if key in cache:\n",
    "            return cache[key]\n",
    "\n",
    "        shortest = float('inf')\n",
    "        for k in needKeys:\n",
    "            l,doors = keylinks[name][k]\n",
    "            if l >= shortest: continue # too long to try\n",
    "            if not doors.isdisjoint(needKeys): continue # can't open doors\n",
    "            tail = walk(k, needKeys - {k})\n",
    "            if shortest > l + tail: shortest = l + tail\n",
    "        cache[key] = shortest\n",
    "        return shortest\n",
    "    \n",
    "    return walk('@', allKeys)\n"
   ]
  },
  {
   "cell_type": "code",
   "execution_count": 4,
   "metadata": {},
   "outputs": [
    {
     "name": "stdout",
     "output_type": "stream",
     "text": "Wall time: 950 ms\n"
    },
    {
     "data": {
      "text/plain": "4420"
     },
     "execution_count": 4,
     "metadata": {},
     "output_type": "execute_result"
    }
   ],
   "source": [
    "%%time\n",
    "\n",
    "findShortest1()\n"
   ]
  },
  {
   "cell_type": "code",
   "execution_count": null,
   "metadata": {},
   "outputs": [],
   "source": []
  }
 ]
}