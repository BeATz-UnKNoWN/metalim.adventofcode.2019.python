{
 "nbformat": 4,
 "nbformat_minor": 2,
 "metadata": {
  "language_info": {
   "name": "python",
   "codemirror_mode": {
    "name": "ipython",
    "version": 3
   },
   "version": "3.7.1"
  },
  "orig_nbformat": 2,
  "file_extension": ".py",
  "mimetype": "text/x-python",
  "name": "python",
  "npconvert_exporter": "python",
  "pygments_lexer": "ipython3",
  "version": 3
 },
 "cells": [
  {
   "cell_type": "code",
   "execution_count": 1,
   "metadata": {},
   "outputs": [],
   "source": [
    "import intcode\n",
    "from collections import deque\n",
    "from itertools import count\n",
    "\n",
    "with open('inputs/23.txt') as file:\n",
    "    input = file.read()\n"
   ]
  },
  {
   "cell_type": "code",
   "execution_count": 2,
   "metadata": {},
   "outputs": [],
   "source": [
    "\n",
    "def init():\n",
    "    prog = intcode.parse(input)\n",
    "    qs = [deque() for i in range(50)]\n",
    "    procs = []\n",
    "    for i in range(50):\n",
    "        proc = intcode.run(prog.copy())\n",
    "        procs.append(proc)\n",
    "        next(proc)\n",
    "        v = proc.send(i)\n",
    "        assert v == None\n",
    "    return procs, qs\n",
    "\n",
    "def runnet(procs, qs):\n",
    "    for step in count():\n",
    "        for i,q in enumerate(qs):\n",
    "            p = procs[i] # it is in input state\n",
    "            if len(q)>0:\n",
    "                assert len(q)>=2\n",
    "                v = p.send(q.popleft())\n",
    "                assert v==None\n",
    "                v = p.send(q.popleft())\n",
    "            else:\n",
    "                v = p.send(-1)\n",
    "            while v != None:\n",
    "                addr = v\n",
    "                x = next(p)\n",
    "                y = next(p)\n",
    "                v = next(p)\n",
    "                if addr == 255:\n",
    "                    return x,y\n",
    "                qs[addr].append(x)\n",
    "                qs[addr].append(y)\n"
   ]
  },
  {
   "cell_type": "code",
   "execution_count": 3,
   "metadata": {},
   "outputs": [
    {
     "name": "stdout",
     "output_type": "stream",
     "text": "Wall time: 28.9 ms\n"
    },
    {
     "data": {
      "text/plain": "(5051, 23886)"
     },
     "execution_count": 3,
     "metadata": {},
     "output_type": "execute_result"
    }
   ],
   "source": [
    "%%time\n",
    "\n",
    "procs, qs = init()\n",
    "runnet(procs, qs)\n"
   ]
  },
  {
   "cell_type": "code",
   "execution_count": 4,
   "metadata": {},
   "outputs": [],
   "source": [
    "def runnet2(procs, qs):\n",
    "    nat = (0,0)\n",
    "    lastnat = nat\n",
    "    for step in count():\n",
    "        for i,q in enumerate(qs):\n",
    "            p = procs[i] # it is in input state\n",
    "            if len(q)>0:\n",
    "                assert len(q)>=2\n",
    "                v = p.send(q.popleft())\n",
    "                assert v==None\n",
    "                v = p.send(q.popleft())\n",
    "            else:\n",
    "                v = p.send(-1)\n",
    "            while v != None:\n",
    "                addr = v\n",
    "                x = next(p)\n",
    "                y = next(p)\n",
    "                v = next(p)\n",
    "                if addr == 255:\n",
    "                    nat = x,y\n",
    "                    continue\n",
    "                qs[addr].append(x)\n",
    "                qs[addr].append(y)\n",
    "\n",
    "        if sum(map(len,qs))>0:\n",
    "            continue\n",
    "\n",
    "        if nat[1] == lastnat[1]:\n",
    "            return nat[1]\n",
    "        lastnat = nat\n",
    "        qs[0].append(nat[0])\n",
    "        qs[0].append(nat[1])\n"
   ]
  },
  {
   "cell_type": "code",
   "execution_count": 5,
   "metadata": {},
   "outputs": [
    {
     "name": "stdout",
     "output_type": "stream",
     "text": "Wall time: 362 ms\n"
    },
    {
     "data": {
      "text/plain": "18333"
     },
     "execution_count": 5,
     "metadata": {},
     "output_type": "execute_result"
    }
   ],
   "source": [
    "%%time\n",
    "\n",
    "procs, qs = init()\n",
    "runnet2(procs, qs)\n"
   ]
  },
  {
   "cell_type": "code",
   "execution_count": null,
   "metadata": {},
   "outputs": [],
   "source": []
  }
 ]
}