{
 "cells": [
  {
   "cell_type": "code",
   "execution_count": 1,
   "metadata": {},
   "outputs": [
    {
     "data": {
      "text/plain": [
       "'248345-746315'"
      ]
     },
     "execution_count": 1,
     "metadata": {},
     "output_type": "execute_result"
    }
   ],
   "source": [
    "with open('inputs/04.txt', 'r') as file: \n",
    "    input = file.read()\n",
    "input"
   ]
  },
  {
   "cell_type": "code",
   "execution_count": 2,
   "metadata": {},
   "outputs": [
    {
     "data": {
      "text/plain": [
       "(248345, 746315)"
      ]
     },
     "execution_count": 2,
     "metadata": {},
     "output_type": "execute_result"
    }
   ],
   "source": [
    "min, max = list(map(int, input.split('-')))\n",
    "min, max"
   ]
  },
  {
   "cell_type": "code",
   "execution_count": 3,
   "metadata": {},
   "outputs": [
    {
     "data": {
      "text/plain": [
       "1019"
      ]
     },
     "execution_count": 3,
     "metadata": {},
     "output_type": "execute_result"
    }
   ],
   "source": [
    "total1 = 0\n",
    "for n in range(min, max+1):\n",
    "    s = str(n)\n",
    "    d = s[0]\n",
    "    dupes = 0\n",
    "    for c in s[1:]:\n",
    "        if c == d: dupes += 1\n",
    "        elif c > d: d = c\n",
    "        else: break\n",
    "    else:\n",
    "        if dupes>0:\n",
    "            total1 += 1\n",
    "total1"
   ]
  },
  {
   "cell_type": "code",
   "execution_count": 4,
   "metadata": {},
   "outputs": [
    {
     "data": {
      "text/plain": [
       "660"
      ]
     },
     "execution_count": 4,
     "metadata": {},
     "output_type": "execute_result"
    }
   ],
   "source": [
    "total2 = 0\n",
    "for n in range(min, max+1):\n",
    "    s = str(n)\n",
    "    d = s[0]\n",
    "    dupes = [0]*10\n",
    "    for c in s[1:]:\n",
    "        if c == d: dupes[int(c)] += 1\n",
    "        elif c > d: d = c\n",
    "        else: break\n",
    "    else:\n",
    "        for ds in dupes:\n",
    "            if ds == 1:\n",
    "                total2 += 1\n",
    "                break\n",
    "total2"
   ]
  }
 ],
 "metadata": {
  "kernelspec": {
   "display_name": "Python 3",
   "language": "python",
   "name": "python3"
  },
  "language_info": {
   "codemirror_mode": {
    "name": "ipython",
    "version": 3
   },
   "file_extension": ".py",
   "mimetype": "text/x-python",
   "name": "python",
   "nbconvert_exporter": "python",
   "pygments_lexer": "ipython3",
   "version": "3.7.4"
  }
 },
 "nbformat": 4,
 "nbformat_minor": 2
}
