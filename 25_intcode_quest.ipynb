{
 "nbformat": 4,
 "nbformat_minor": 2,
 "metadata": {
  "language_info": {
   "name": "python",
   "codemirror_mode": {
    "name": "ipython",
    "version": 3
   },
   "version": "3.7.1"
  },
  "orig_nbformat": 2,
  "file_extension": ".py",
  "mimetype": "text/x-python",
  "name": "python",
  "npconvert_exporter": "python",
  "pygments_lexer": "ipython3",
  "version": 3
 },
 "cells": [
  {
   "cell_type": "code",
   "execution_count": 1,
   "metadata": {},
   "outputs": [],
   "source": [
    "import intcode\n",
    "\n",
    "with open('inputs/25.txt') as file:\n",
    "    input = file.read()\n",
    "\n",
    "prog = intcode.parse(input)\n"
   ]
  },
  {
   "cell_type": "code",
   "execution_count": 2,
   "metadata": {},
   "outputs": [],
   "source": [
    "black = '''infinite loop\n",
    "escape pod\n",
    "photons\n",
    "molten lava\n",
    "giant electromagnet'''.split('\\n')\n",
    "\n",
    "cmds = '''south\n",
    "south\n",
    "south\n",
    "take fixed point\n",
    "south\n",
    "take festive hat\n",
    "west\n",
    "west\n",
    "west\n",
    "take jam\n",
    "south\n",
    "take easter egg\n",
    "north\n",
    "east\n",
    "east\n",
    "north\n",
    "west\n",
    "take asterisk\n",
    "east\n",
    "north\n",
    "west\n",
    "north\n",
    "north\n",
    "take tambourine\n",
    "south\n",
    "south\n",
    "east\n",
    "north\n",
    "west\n",
    "south\n",
    "take antenna\n",
    "north\n",
    "west\n",
    "west\n",
    "take space heater\n",
    "west'''.split('\\n')\n",
    "\n",
    "items = '''asterisk\n",
    "antenna\n",
    "easter egg\n",
    "space heater\n",
    "jam\n",
    "tambourine\n",
    "festive hat\n",
    "fixed point'''.split('\\n')\n"
   ]
  },
  {
   "cell_type": "code",
   "execution_count": 3,
   "metadata": {},
   "outputs": [
    {
     "name": "stdout",
     "output_type": "stream",
     "text": " has been optimized for something; you're just not quite sure what.\n\nDoors here lead:\n- east\n- south\n- west\n\nItems here:\n- escape pod\n\nCommand?\nwest\n\n\n\n\n== Observatory ==\nThere are a few telescopes; they're all bolted down, though.\n\nDoors here lead:\n- east\n- south\n- west\n\nCommand?\nwest\n\n\n\n\n== Storage ==\nThe boxes just contain more boxes.  Recursively.\n\nDoors here lead:\n- east\n- west\n\nItems here:\n- space heater\n\nCommand?\ntake space heater\n\n\nYou take the space heater.\n\nCommand?\nwest\n\n\n\n\n== Security Checkpoint ==\nIn the next room, a pressure-sensitive floor will verify your identity.\n\nDoors here lead:\n- east\n- west\n\nCommand?\ndrop asterisk\n\n\nYou drop the asterisk.\n\nCommand?\ndrop antenna\n\n\nYou drop the antenna.\n\nCommand?\ndrop easter egg\n\n\nYou drop the easter egg.\n\nCommand?\ndrop space heater\n\n\nYou drop the space heater.\n\nCommand?\ndrop jam\n\n\nYou drop the jam.\n\nCommand?\ndrop tambourine\n\n\nYou drop the tambourine.\n\nCommand?\ndrop festive hat\n\n\nYou drop the festive hat.\n\nCommand?\ndrop fixed point\n\n\nYou drop the fixed point.\n\nCommand?\nwest\n\n\n\n\n== Pressure-Sensitive Floor ==\nAnalyzing...\n\nDoors here lead:\n- east\n\nA loud, robotic voice says \"Alert! Droids on this ship are heavier than the detected value!\" and you are ejected back to the checkpoint.\n\n\n\n== Security Checkpoint ==\nIn the next room, a pressure-sensitive floor will verify your identity.\n\nDoors here lead:\n- east\n- west\n\nItems here:\n- asterisk\n- antenna\n- easter egg\n- space heater\n- jam\n- tambourine\n- festive hat\n- fixed point\n\nCommand?\ntake fixed point\n\n\nYou take the fixed point.\n\nCommand?\nwest\n\n\n\n\n== Pressure-Sensitive Floor ==\nAnalyzing...\n\nDoors here lead:\n- east\n\nA loud, robotic voice says \"Alert! Droids on this ship are heavier than the detected value!\" and you are ejected back to the checkpoint.\n\n\n\n== Security Checkpoint ==\nIn the next room, a pressure-sensitive floor will verify your identity.\n\nDoors here lead:\n- east\n- west\n\nItems here:\n- asterisk\n- antenna\n- easter egg\n- space heater\n- jam\n- tambourine\n- festive hat\n\nCommand?\ntake festive hat\n\n\nYou take the festive hat.\n\nCommand?\nwest\n\n\n\n\n== Pressure-Sensitive Floor ==\nAnalyzing...\n\nDoors here lead:\n- east\n\nA loud, robotic voice says \"Alert! Droids on this ship are heavier than the detected value!\" and you are ejected back to the checkpoint.\n\n\n\n== Security Checkpoint ==\nIn the next room, a pressure-sensitive floor will verify your identity.\n\nDoors here lead:\n- east\n- west\n\nItems here:\n- asterisk\n- antenna\n- easter egg\n- space heater\n- jam\n- tambourine\n\nCommand?\ndrop fixed point\n\n\nYou drop the fixed point.\n\nCommand?\nwest\n\n\n\n\n== Pressure-Sensitive Floor ==\nAnalyzing...\n\nDoors here lead:\n- east\n\nA loud, robotic voice says \"Alert! Droids on this ship are heavier than the detected value!\" and you are ejected back to the checkpoint.\n\n\n\n== Security Checkpoint ==\nIn the next room, a pressure-sensitive floor will verify your identity.\n\nDoors here lead:\n- east\n- west\n\nItems here:\n- asterisk\n- antenna\n- easter egg\n- space heater\n- jam\n- tambourine\n- fixed point\n\nCommand?\ntake tambourine\n\n\nYou take the tambourine.\n\nCommand?\nwest\n\n\n\n\n== Pressure-Sensitive Floor ==\nAnalyzing...\n\nDoors here lead:\n- east\n\nA loud, robotic voice says \"Alert! Droids on this ship are heavier than the detected value!\" and you are ejected back to the checkpoint.\n\n\n\n== Security Checkpoint ==\nIn the next room, a pressure-sensitive floor will verify your identity.\n\nDoors here lead:\n- east\n- west\n\nItems here:\n- asterisk\n- antenna\n- easter egg\n- space heater\n- jam\n- fixed point\n\nCommand?\ntake fixed point\n\n\nYou take the fixed point.\n\nCommand?\nwest\n\n\n\n\n== Pressure-Sensitive Floor ==\nAnalyzing...\n\nDoors here lead:\n- east\n\nA loud, robotic voice says \"Alert! Droids on this ship are heavier than the detected value!\" and you are ejected back to the checkpoint.\n\n\n\n== Security Checkpoint ==\nIn the next room, a pressure-sensitive floor will verify your identity.\n\nDoors here lead:\n- east\n- west\n\nItems here:\n- asterisk\n- antenna\n- easter egg\n- space heater\n- jam\n\nCommand?\ndrop festive hat\n\n\nYou drop the festive hat.\n\nCommand?\nwest\n\n\n\n\n== Pressure-Sensitive Floor ==\nAnalyzing...\n\nDoors here lead:\n- east\n\nA loud, robotic voice says \"Alert! Droids on this ship are heavier than the detected value!\" and you are ejected back to the checkpoint.\n\n\n\n== Security Checkpoint ==\nIn the next room, a pressure-sensitive floor will verify your identity.\n\nDoors here lead:\n- east\n- west\n\nItems here:\n- asterisk\n- antenna\n- easter egg\n- space heater\n- jam\n- festive hat\n\nCommand?\ndrop fixed point\n\n\nYou drop the fixed point.\n\nCommand?\nwest\n\n\n\n\n== Pressure-Sensitive Floor ==\nAnalyzing...\n\nDoors here lead:\n- east\n\nA loud, robotic voice says \"Alert! Droids on this ship are heavier than the detected value!\" and you are ejected back to the checkpoint.\n\n\n\n== Security Checkpoint ==\nIn the next room, a pressure-sensitive floor will verify your identity.\n\nDoors here lead:\n- east\n- west\n\nItems here:\n- asterisk\n- antenna\n- easter egg\n- space heater\n- jam\n- festive hat\n- fixed point\n\nCommand?\ntake jam\n\n\nYou take the jam.\n\nCommand?\nwest\n\n\n\n\n== Pressure-Sensitive Floor ==\nAnalyzing...\n\nDoors here lead:\n- east\n\nA loud, robotic voice says \"Alert! Droids on this ship are lighter than the detected value!\" and you are ejected back to the checkpoint.\n\n\n\n== Security Checkpoint ==\nIn the next room, a pressure-sensitive floor will verify your identity.\n\nDoors here lead:\n- east\n- west\n\nItems here:\n- asterisk\n- antenna\n- easter egg\n- space heater\n- festive hat\n- fixed point\n\nCommand?\ntake fixed point\n\n\nYou take the fixed point.\n\nCommand?\nwest\n\n\n\n\n== Pressure-Sensitive Floor ==\nAnalyzing...\n\nDoors here lead:\n- east\n\nA loud, robotic voice says \"Alert! Droids on this ship are lighter than the detected value!\" and you are ejected back to the checkpoint.\n\n\n\n== Security Checkpoint ==\nIn the next room, a pressure-sensitive floor will verify your identity.\n\nDoors here lead:\n- east\n- west\n\nItems here:\n- asterisk\n- antenna\n- easter egg\n- space heater\n- festive hat\n\nCommand?\ntake festive hat\n\n\nYou take the festive hat.\n\nCommand?\nwest\n\n\n\n\n== Pressure-Sensitive Floor ==\nAnalyzing...\n\nDoors here lead:\n- east\n\nA loud, robotic voice says \"Alert! Droids on this ship are lighter than the detected value!\" and you are ejected back to the checkpoint.\n\n\n\n== Security Checkpoint ==\nIn the next room, a pressure-sensitive floor will verify your identity.\n\nDoors here lead:\n- east\n- west\n\nItems here:\n- asterisk\n- antenna\n- easter egg\n- space heater\n\nCommand?\ndrop fixed point\n\n\nYou drop the fixed point.\n\nCommand?\nwest\n\n\n\n\n== Pressure-Sensitive Floor ==\nAnalyzing...\n\nDoors here lead:\n- east\n\nA loud, robotic voice says \"Alert! Droids on this ship are lighter than the detected value!\" and you are ejected back to the checkpoint.\n\n\n\n== Security Checkpoint ==\nIn the next room, a pressure-sensitive floor will verify your identity.\n\nDoors here lead:\n- east\n- west\n\nItems here:\n- asterisk\n- antenna\n- easter egg\n- space heater\n- fixed point\n\nCommand?\ndrop tambourine\n\n\nYou drop the tambourine.\n\nCommand?\nwest\n\n\n\n\n== Pressure-Sensitive Floor ==\nAnalyzing...\n\nDoors here lead:\n- east\n\nA loud, robotic voice says \"Alert! Droids on this ship are heavier than the detected value!\" and you are ejected back to the checkpoint.\n\n\n\n== Security Checkpoint ==\nIn the next room, a pressure-sensitive floor will verify your identity.\n\nDoors here lead:\n- east\n- west\n\nItems here:\n- asterisk\n- antenna\n- easter egg\n- space heater\n- tambourine\n- fixed point\n\nCommand?\ntake fixed point\n\n\nYou take the fixed point.\n\nCommand?\nwest\n\n\n\n\n== Pressure-Sensitive Floor ==\nAnalyzing...\n\nDoors here lead:\n- east\n\nA loud, robotic voice says \"Alert! Droids on this ship are heavier than the detected value!\" and you are ejected back to the checkpoint.\n\n\n\n== Security Checkpoint ==\nIn the next room, a pressure-sensitive floor will verify your identity.\n\nDoors here lead:\n- east\n- west\n\nItems here:\n- asterisk\n- antenna\n- easter egg\n- space heater\n- tambourine\n\nCommand?\ndrop festive hat\n\n\nYou drop the festive hat.\n\nCommand?\nwest\n\n\n\n\n== Pressure-Sensitive Floor ==\nAnalyzing...\n\nDoors here lead:\n- east\n\nA loud, robotic voice says \"Alert! Droids on this ship are heavier than the detected value!\" and you are ejected back to the checkpoint.\n\n\n\n== Security Checkpoint ==\nIn the next room, a pressure-sensitive floor will verify your identity.\n\nDoors here lead:\n- east\n- west\n\nItems here:\n- asterisk\n- antenna\n- easter egg\n- space heater\n- tambourine\n- festive hat\n\nCommand?\ndrop fixed point\n\n\nYou drop the fixed point.\n\nCommand?\nwest\n\n\n\n\n== Pressure-Sensitive Floor ==\nAnalyzing...\n\nDoors here lead:\n- east\n\nA loud, robotic voice says \"Alert! Droids on this ship are heavier than the detected value!\" and you are ejected back to the checkpoint.\n\n\n\n== Security Checkpoint ==\nIn the next room, a pressure-sensitive floor will verify your identity.\n\nDoors here lead:\n- east\n- west\n\nItems here:\n- asterisk\n- antenna\n- easter egg\n- space heater\n- tambourine\n- festive hat\n- fixed point\n\nCommand?\ntake space heater\n\n\nYou take the space heater.\n\nCommand?\nwest\n\n\n\n\n== Pressure-Sensitive Floor ==\nAnalyzing...\n\nDoors here lead:\n- east\n\nA loud, robotic voice says \"Alert! Droids on this ship are heavier than the detected value!\" and you are ejected back to the checkpoint.\n\n\n\n== Security Checkpoint ==\nIn the next room, a pressure-sensitive floor will verify your identity.\n\nDoors here lead:\n- east\n- west\n\nItems here:\n- asterisk\n- antenna\n- easter egg\n- tambourine\n- festive hat\n- fixed point\n\nCommand?\ntake fixed point\n\n\nYou take the fixed point.\n\nCommand?\nwest\n\n\n\n\n== Pressure-Sensitive Floor ==\nAnalyzing...\n\nDoors here lead:\n- east\n\nA loud, robotic voice says \"Alert! Droids on this ship are heavier than the detected value!\" and you are ejected back to the checkpoint.\n\n\n\n== Security Checkpoint ==\nIn the next room, a pressure-sensitive floor will verify your identity.\n\nDoors here lead:\n- east\n- west\n\nItems here:\n- asterisk\n- antenna\n- easter egg\n- tambourine\n- festive hat\n\nCommand?\ntake festive hat\n\n\nYou take the festive hat.\n\nCommand?\nwest\n\n\n\n\n== Pressure-Sensitive Floor ==\nAnalyzing...\n\nDoors here lead:\n- east\n\nA loud, robotic voice says \"Alert! Droids on this ship are heavier than the detected value!\" and you are ejected back to the checkpoint.\n\n\n\n== Security Checkpoint ==\nIn the next room, a pressure-sensitive floor will verify your identity.\n\nDoors here lead:\n- east\n- west\n\nItems here:\n- asterisk\n- antenna\n- easter egg\n- tambourine\n\nCommand?\ndrop fixed point\n\n\nYou drop the fixed point.\n\nCommand?\nwest\n\n\n\n\n== Pressure-Sensitive Floor ==\nAnalyzing...\n\nDoors here lead:\n- east\n\nA loud, robotic voice says \"Alert! Droids on this ship are heavier than the detected value!\" and you are ejected back to the checkpoint.\n\n\n\n== Security Checkpoint ==\nIn the next room, a pressure-sensitive floor will verify your identity.\n\nDoors here lead:\n- east\n- west\n\nItems here:\n- asterisk\n- antenna\n- easter egg\n- tambourine\n- fixed point\n\nCommand?\ntake tambourine\n\n\nYou take the tambourine.\n\nCommand?\nwest\n\n\n\n\n== Pressure-Sensitive Floor ==\nAnalyzing...\n\nDoors here lead:\n- east\n\nA loud, robotic voice says \"Alert! Droids on this ship are lighter than the detected value!\" and you are ejected back to the checkpoint.\n\n\n\n== Security Checkpoint ==\nIn the next room, a pressure-sensitive floor will verify your identity.\n\nDoors here lead:\n- east\n- west\n\nItems here:\n- asterisk\n- antenna\n- easter egg\n- fixed point\n\nCommand?\ntake fixed point\n\n\nYou take the fixed point.\n\nCommand?\nwest\n\n\n\n\n== Pressure-Sensitive Floor ==\nAnalyzing...\n\nDoors here lead:\n- east\n\nA loud, robotic voice says \"Alert! Droids on this ship are lighter than the detected value!\" and you are ejected back to the checkpoint.\n\n\n\n== Security Checkpoint ==\nIn the next room, a pressure-sensitive floor will verify your identity.\n\nDoors here lead:\n- east\n- west\n\nItems here:\n- asterisk\n- antenna\n- easter egg\n\nCommand?\ndrop festive hat\n\n\nYou drop the festive hat.\n\nCommand?\nwest\n\n\n\n\n== Pressure-Sensitive Floor ==\nAnalyzing...\n\nDoors here lead:\n- east\n\nA loud, robotic voice says \"Alert! Droids on this ship are lighter than the detected value!\" and you are ejected back to the checkpoint.\n\n\n\n== Security Checkpoint ==\nIn the next room, a pressure-sensitive floor will verify your identity.\n\nDoors here lead:\n- east\n- west\n\nItems here:\n- asterisk\n- antenna\n- easter egg\n- festive hat\n\nCommand?\ndrop fixed point\n\n\nYou drop the fixed point.\n\nCommand?\nwest\n\n\n\n\n== Pressure-Sensitive Floor ==\nAnalyzing...\n\nDoors here lead:\n- east\n\nA loud, robotic voice says \"Alert! Droids on this ship are lighter than the detected value!\" and you are ejected back to the checkpoint.\n\n\n\n== Security Checkpoint ==\nIn the next room, a pressure-sensitive floor will verify your identity.\n\nDoors here lead:\n- east\n- west\n\nItems here:\n- asterisk\n- antenna\n- easter egg\n- festive hat\n- fixed point\n\nCommand?\ndrop jam\n\n\nYou drop the jam.\n\nCommand?\nwest\n\n\n\n\n== Pressure-Sensitive Floor ==\nAnalyzing...\n\nDoors here lead:\n- east\n\nA loud, robotic voice says \"Alert! Droids on this ship are heavier than the detected value!\" and you are ejected back to the checkpoint.\n\n\n\n== Security Checkpoint ==\nIn the next room, a pressure-sensitive floor will verify your identity.\n\nDoors here lead:\n- east\n- west\n\nItems here:\n- asterisk\n- antenna\n- easter egg\n- jam\n- festive hat\n- fixed point\n\nCommand?\ntake fixed point\n\n\nYou take the fixed point.\n\nCommand?\nwest\n\n\n\n\n== Pressure-Sensitive Floor ==\nAnalyzing...\n\nDoors here lead:\n- east\n\nA loud, robotic voice says \"Alert! Droids on this ship are heavier than the detected value!\" and you are ejected back to the checkpoint.\n\n\n\n== Security Checkpoint ==\nIn the next room, a pressure-sensitive floor will verify your identity.\n\nDoors here lead:\n- east\n- west\n\nItems here:\n- asterisk\n- antenna\n- easter egg\n- jam\n- festive hat\n\nCommand?\ntake festive hat\n\n\nYou take the festive hat.\n\nCommand?\nwest\n\n\n\n\n== Pressure-Sensitive Floor ==\nAnalyzing...\n\nDoors here lead:\n- east\n\nA loud, robotic voice says \"Alert! Droids on this ship are heavier than the detected value!\" and you are ejected back to the checkpoint.\n\n\n\n== Security Checkpoint ==\nIn the next room, a pressure-sensitive floor will verify your identity.\n\nDoors here lead:\n- east\n- west\n\nItems here:\n- asterisk\n- antenna\n- easter egg\n- jam\n\nCommand?\ndrop fixed point\n\n\nYou drop the fixed point.\n\nCommand?\nwest\n\n\n\n\n== Pressure-Sensitive Floor ==\nAnalyzing...\n\nDoors here lead:\n- east\n\nA loud, robotic voice says \"Alert! Droids on this ship are heavier than the detected value!\" and you are ejected back to the checkpoint.\n\n\n\n== Security Checkpoint ==\nIn the next room, a pressure-sensitive floor will verify your identity.\n\nDoors here lead:\n- east\n- west\n\nItems here:\n- asterisk\n- antenna\n- easter egg\n- jam\n- fixed point\n\nCommand?\ndrop tambourine\n\n\nYou drop the tambourine.\n\nCommand?\nwest\n\n\n\n\n== Pressure-Sensitive Floor ==\nAnalyzing...\n\nDoors here lead:\n- east\n\nA loud, robotic voice says \"Alert! Droids on this ship are heavier than the detected value!\" and you are ejected back to the checkpoint.\n\n\n\n== Security Checkpoint ==\nIn the next room, a pressure-sensitive floor will verify your identity.\n\nDoors here lead:\n- east\n- west\n\nItems here:\n- asterisk\n- antenna\n- easter egg\n- jam\n- tambourine\n- fixed point\n\nCommand?\ntake fixed point\n\n\nYou take the fixed point.\n\nCommand?\nwest\n\n\n\n\n== Pressure-Sensitive Floor ==\nAnalyzing...\n\nDoors here lead:\n- east\n\nA loud, robotic voice says \"Alert! Droids on this ship are heavier than the detected value!\" and you are ejected back to the checkpoint.\n\n\n\n== Security Checkpoint ==\nIn the next room, a pressure-sensitive floor will verify your identity.\n\nDoors here lead:\n- east\n- west\n\nItems here:\n- asterisk\n- antenna\n- easter egg\n- jam\n- tambourine\n\nCommand?\ndrop festive hat\n\n\nYou drop the festive hat.\n\nCommand?\nwest\n\n\n\n\n== Pressure-Sensitive Floor ==\nAnalyzing...\n\nDoors here lead:\n- east\n\nA loud, robotic voice says \"Alert! Droids on this ship are heavier than the detected value!\" and you are ejected back to the checkpoint.\n\n\n\n== Security Checkpoint ==\nIn the next room, a pressure-sensitive floor will verify your identity.\n\nDoors here lead:\n- east\n- west\n\nItems here:\n- asterisk\n- antenna\n- easter egg\n- jam\n- tambourine\n- festive hat\n\nCommand?\ndrop fixed point\n\n\nYou drop the fixed point.\n\nCommand?\nwest\n\n\n\n\n== Pressure-Sensitive Floor ==\nAnalyzing...\n\nDoors here lead:\n- east\n\nA loud, robotic voice says \"Alert! Droids on this ship are heavier than the detected value!\" and you are ejected back to the checkpoint.\n\n\n\n== Security Checkpoint ==\nIn the next room, a pressure-sensitive floor will verify your identity.\n\nDoors here lead:\n- east\n- west\n\nItems here:\n- asterisk\n- antenna\n- easter egg\n- jam\n- tambourine\n- festive hat\n- fixed point\n\nCommand?\ntake easter egg\n\n\nYou take the easter egg.\n\nCommand?\nwest\n\n\n\n\n== Pressure-Sensitive Floor ==\nAnalyzing...\n\nDoors here lead:\n- east\n\nA loud, robotic voice says \"Alert! Droids on this ship are heavier than the detected value!\" and you are ejected back to the checkpoint.\n\n\n\n== Security Checkpoint ==\nIn the next room, a pressure-sensitive floor will verify your identity.\n\nDoors here lead:\n- east\n- west\n\nItems here:\n- asterisk\n- antenna\n- jam\n- tambourine\n- festive hat\n- fixed point\n\nCommand?\ntake fixed point\n\n\nYou take the fixed point.\n\nCommand?\nwest\n\n\n\n\n== Pressure-Sensitive Floor ==\nAnalyzing...\n\nDoors here lead:\n- east\n\nA loud, robotic voice says \"Alert! Droids on this ship are heavier than the detected value!\" and you are ejected back to the checkpoint.\n\n\n\n== Security Checkpoint ==\nIn the next room, a pressure-sensitive floor will verify your identity.\n\nDoors here lead:\n- east\n- west\n\nItems here:\n- asterisk\n- antenna\n- jam\n- tambourine\n- festive hat\n\nCommand?\ntake festive hat\n\n\nYou take the festive hat.\n\nCommand?\nwest\n\n\n\n\n== Pressure-Sensitive Floor ==\nAnalyzing...\n\nDoors here lead:\n- east\n\nA loud, robotic voice says \"Alert! Droids on this ship are heavier than the detected value!\" and you are ejected back to the checkpoint.\n\n\n\n== Security Checkpoint ==\nIn the next room, a pressure-sensitive floor will verify your identity.\n\nDoors here lead:\n- east\n- west\n\nItems here:\n- asterisk\n- antenna\n- jam\n- tambourine\n\nCommand?\ndrop fixed point\n\n\nYou drop the fixed point.\n\nCommand?\nwest\n\n\n\n\n== Pressure-Sensitive Floor ==\nAnalyzing...\n\nDoors here lead:\n- east\n\nA loud, robotic voice says \"Alert! Droids on this ship are heavier than the detected value!\" and you are ejected back to the checkpoint.\n\n\n\n== Security Checkpoint ==\nIn the next room, a pressure-sensitive floor will verify your identity.\n\nDoors here lead:\n- east\n- west\n\nItems here:\n- asterisk\n- antenna\n- jam\n- tambourine\n- fixed point\n\nCommand?\ntake tambourine\n\n\nYou take the tambourine.\n\nCommand?\nwest\n\n\n\n\n== Pressure-Sensitive Floor ==\nAnalyzing...\n\nDoors here lead:\n- east\n\nA loud, robotic voice says \"Alert! Droids on this ship are heavier than the detected value!\" and you are ejected back to the checkpoint.\n\n\n\n== Security Checkpoint ==\nIn the next room, a pressure-sensitive floor will verify your identity.\n\nDoors here lead:\n- east\n- west\n\nItems here:\n- asterisk\n- antenna\n- jam\n- fixed point\n\nCommand?\ntake fixed point\n\n\nYou take the fixed point.\n\nCommand?\nwest\n\n\n\n\n== Pressure-Sensitive Floor ==\nAnalyzing...\n\nDoors here lead:\n- east\n\nA loud, robotic voice says \"Alert! Droids on this ship are lighter than the detected value!\" and you are ejected back to the checkpoint.\n\n\n\n== Security Checkpoint ==\nIn the next room, a pressure-sensitive floor will verify your identity.\n\nDoors here lead:\n- east\n- west\n\nItems here:\n- asterisk\n- antenna\n- jam\n\nCommand?\ndrop festive hat\n\n\nYou drop the festive hat.\n\nCommand?\nwest\n\n\n\n\n== Pressure-Sensitive Floor ==\nAnalyzing...\n\nDoors here lead:\n- east\n\nA loud, robotic voice says \"Analysis complete! You may proceed.\" and you enter the cockpit.\nSanta notices your small droid, looks puzzled for a moment, realizes what has happened, and radios your ship directly.\n\"Oh, hello! You should be able to get in by typing 2147485856 on the keypad at the main airlock.\"\nstopped\nWall time: 1.54 s\n"
    }
   ],
   "source": [
    "%%time\n",
    "\n",
    "proc = intcode.run(prog)\n",
    "intcode.readASCII(proc)\n",
    "\n",
    "for c in cmds:\n",
    "    intcode.sendASCII(proc,c+'\\n')\n",
    "\n",
    "prev = 0xff\n",
    "for i in range(256):\n",
    "    gray = i^(i>>1)\n",
    "    for it,had,need in zip(items,map(int,bin(256+prev)[-8:]),map(int,bin(256+gray)[-8:])):\n",
    "        if had and not need:\n",
    "            intcode.sendASCII(proc,'drop '+it+'\\n')\n",
    "        elif need and not had:\n",
    "            intcode.sendASCII(proc,'take '+it+'\\n')\n",
    "    prev = gray\n",
    "    q = intcode.sendASCII(proc,'west\\n')\n",
    "    if not isinstance(q,str):\n",
    "        break\n"
   ]
  },
  {
   "cell_type": "code",
   "execution_count": null,
   "metadata": {},
   "outputs": [],
   "source": []
  }
 ]
}