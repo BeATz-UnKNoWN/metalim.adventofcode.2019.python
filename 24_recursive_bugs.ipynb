{
 "nbformat": 4,
 "nbformat_minor": 2,
 "metadata": {
  "language_info": {
   "name": "python",
   "codemirror_mode": {
    "name": "ipython",
    "version": 3
   },
   "version": "3.7.1"
  },
  "orig_nbformat": 2,
  "file_extension": ".py",
  "mimetype": "text/x-python",
  "name": "python",
  "npconvert_exporter": "python",
  "pygments_lexer": "ipython3",
  "version": 3
 },
 "cells": [
  {
   "cell_type": "code",
   "execution_count": 1,
   "metadata": {},
   "outputs": [],
   "source": [
    "from itertools import count\n",
    "from collections import defaultdict\n",
    "\n",
    "with open('inputs/24.txt') as file:\n",
    "    input = file.read()\n",
    "\n",
    "lines = input.split('\\n')\n"
   ]
  },
  {
   "cell_type": "code",
   "execution_count": 2,
   "metadata": {},
   "outputs": [
    {
     "name": "stdout",
     "output_type": "stream",
     "text": "Wall time: 0 ns\n"
    }
   ],
   "source": [
    "%%time\n",
    "\n",
    "def parse(lines):\n",
    "    bugs = defaultdict(lambda:0)\n",
    "    for y in range(5):\n",
    "        for x in range(5):\n",
    "            bugs[complex(x,y)] = 1 if lines[y][x]=='#' else 0\n",
    "    return bugs\n",
    "\n",
    "init = parse(lines)\n"
   ]
  },
  {
   "cell_type": "code",
   "execution_count": 3,
   "metadata": {},
   "outputs": [],
   "source": [
    "\n",
    "def pretty(step,bugs):\n",
    "    print(step)\n",
    "    for y in range(5):\n",
    "        l = ''\n",
    "        for x in range(5):\n",
    "            l+='.#'[bugs[complex(x,y)]]\n",
    "        print(l)\n",
    "\n",
    "def iterate1(bugs):\n",
    "    bugs = bugs.copy()\n",
    "    nxt = defaultdict(lambda:0)\n",
    "    visited = {repr(dict(bugs)):0}\n",
    "    for step in count(1):\n",
    "        for y in range(5):\n",
    "            for x in range(5):\n",
    "                p = complex(x,y)\n",
    "                c = bugs[p]\n",
    "                ns = bugs[p+1]+bugs[p-1]+bugs[p+1j]+bugs[p-1j]\n",
    "                nxt[p] = int(ns==1 or ns==2 and not c)\n",
    "        bugs,nxt = nxt,bugs\n",
    "        s = repr(dict(bugs))\n",
    "        if s in visited:\n",
    "            break\n",
    "        visited[s]=step\n",
    "\n",
    "    biodiv = 0\n",
    "    for y in range(5):\n",
    "        for x in range(5):\n",
    "            dx = 2**x\n",
    "            dy = 32**y\n",
    "            c = bugs[complex(x,y)]\n",
    "            biodiv += c*dx*dy\n",
    "    return biodiv\n"
   ]
  },
  {
   "cell_type": "code",
   "execution_count": 4,
   "metadata": {},
   "outputs": [
    {
     "name": "stdout",
     "output_type": "stream",
     "text": "Wall time: 1.99 ms\n"
    },
    {
     "data": {
      "text/plain": "17863741"
     },
     "execution_count": 4,
     "metadata": {},
     "output_type": "execute_result"
    }
   ],
   "source": [
    "%%time\n",
    "\n",
    "iterate1(init)\n"
   ]
  },
  {
   "cell_type": "code",
   "execution_count": 5,
   "metadata": {},
   "outputs": [],
   "source": [
    "def iterate2(bugs, steps):\n",
    "    layers = defaultdict(lambda: defaultdict(lambda: 0))\n",
    "    nxt = defaultdict(lambda: defaultdict(lambda: 0))\n",
    "    layers[0] = bugs.copy()\n",
    "    lmin,lmax = -1,1\n",
    "\n",
    "    def get(l,p,d):\n",
    "        x,y = int(p.real),int(p.imag)\n",
    "        dx,dy = int(d.real),int(d.imag)\n",
    "        nx,ny = x+dx,y+dy\n",
    "        if nx<0:\n",
    "            return layers[l-1][1+2j]\n",
    "        if nx>4:\n",
    "            return layers[l-1][3+2j]\n",
    "        if ny<0:\n",
    "            return layers[l-1][2+1j]\n",
    "        if ny>4:\n",
    "            return layers[l-1][2+3j]\n",
    "        if nx==2 and ny==2:\n",
    "            if dx==1:\n",
    "                return sum([layers[l+1][complex(0,i)] for i in range(5)])\n",
    "            if dx==-1:\n",
    "                return sum([layers[l+1][complex(4,i)] for i in range(5)])\n",
    "            if dy==1:\n",
    "                return sum([layers[l+1][complex(i,0)] for i in range(5)])\n",
    "            if dy==-1:\n",
    "                return sum([layers[l+1][complex(i,4)] for i in range(5)])\n",
    "            raise Exception('something wrong',l,p,d)\n",
    "        return layers[l][p+d]\n",
    "        \n",
    "    for step in range(1,steps+1):\n",
    "        for l in range(lmin,lmax+1):\n",
    "            bugs = layers[l]\n",
    "            for y in range(5):\n",
    "                for x in range(5):\n",
    "                    if x==2 and y==2: continue\n",
    "                    p = complex(x,y)\n",
    "                    c = bugs[p]\n",
    "                    ns = get(l,p,1)+get(l,p,-1)+get(l,p,1j)+get(l,p,-1j)\n",
    "                    nc = int(ns==1 or ns==2 and not c)\n",
    "                    nxt[l][p] = nc\n",
    "                    if nc:\n",
    "                        lmin = min(lmin,l-1)\n",
    "                        lmax = max(lmax,l+1)\n",
    "        nxt,layers = layers,nxt\n",
    "\n",
    "    total = 0\n",
    "    for l in range(lmin,lmax+1):\n",
    "        for y in range(5):\n",
    "            for x in range(5):\n",
    "                total += layers[l][complex(x,y)]\n",
    "    return total\n"
   ]
  },
  {
   "cell_type": "code",
   "execution_count": 6,
   "metadata": {},
   "outputs": [
    {
     "name": "stdout",
     "output_type": "stream",
     "text": "Wall time: 2.53 s\n"
    },
    {
     "data": {
      "text/plain": "2029"
     },
     "execution_count": 6,
     "metadata": {},
     "output_type": "execute_result"
    }
   ],
   "source": [
    "%%time\n",
    "\n",
    "iterate2(init,200)\n"
   ]
  },
  {
   "cell_type": "code",
   "execution_count": null,
   "metadata": {},
   "outputs": [],
   "source": []
  }
 ]
}