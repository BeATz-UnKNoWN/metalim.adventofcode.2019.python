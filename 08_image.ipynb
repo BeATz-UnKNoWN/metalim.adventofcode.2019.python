{
 "nbformat": 4,
 "nbformat_minor": 2,
 "metadata": {
  "language_info": {
   "name": "python",
   "codemirror_mode": {
    "name": "ipython",
    "version": 3
   },
   "version": "3.7.1"
  },
  "orig_nbformat": 2,
  "file_extension": ".py",
  "mimetype": "text/x-python",
  "name": "python",
  "npconvert_exporter": "python",
  "pygments_lexer": "ipython3",
  "version": 3
 },
 "cells": [
  {
   "cell_type": "code",
   "execution_count": 1,
   "metadata": {},
   "outputs": [],
   "source": [
    "with open('inputs/08.txt') as file:\n",
    "    input = file.read()\n",
    "width = 25\n",
    "size = 25*6\n"
   ]
  },
  {
   "cell_type": "code",
   "execution_count": 2,
   "metadata": {},
   "outputs": [
    {
     "name": "stdout",
     "output_type": "stream",
     "text": "1920\n"
    }
   ],
   "source": [
    "target = [999999]*3\n",
    "for i in range(0,len(input),size):\n",
    "    freqs = [0]*3\n",
    "    for j in range(0,size):\n",
    "        freqs[int(input[i+j])] += 1\n",
    "    if freqs[0]<target[0]:\n",
    "        target = freqs\n",
    "print(target[1]*target[2])\n"
   ]
  },
  {
   "cell_type": "code",
   "execution_count": 3,
   "metadata": {},
   "outputs": [
    {
     "name": "stdout",
     "output_type": "stream",
     "text": "###   ##  #  # #     ##  \n#  # #  # #  # #    #  # \n#  # #    #  # #    #  # \n###  #    #  # #    #### \n#    #  # #  # #    #  # \n#     ##   ##  #### #  # \n"
    }
   ],
   "source": [
    "img = ['2']*size\n",
    "for i in range(0,len(input),size):\n",
    "    for j in range(0,size):\n",
    "        if img[j]=='2':\n",
    "            img[j]=input[i+j]\n",
    "img = ['#' if x=='1' else ' ' for x in img]\n",
    "for i in range(0,size,width):\n",
    "    print(''.join(img[i:i+width]))\n"
   ]
  },
  {
   "cell_type": "code",
   "execution_count": null,
   "metadata": {},
   "outputs": [],
   "source": []
  }
 ]
}