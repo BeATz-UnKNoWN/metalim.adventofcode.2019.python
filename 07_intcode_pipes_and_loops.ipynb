{
 "nbformat": 4,
 "nbformat_minor": 2,
 "metadata": {
  "language_info": {
   "name": "python",
   "codemirror_mode": {
    "name": "ipython",
    "version": 3
   },
   "version": "3.7.1"
  },
  "orig_nbformat": 2,
  "file_extension": ".py",
  "mimetype": "text/x-python",
  "name": "python",
  "npconvert_exporter": "python",
  "pygments_lexer": "ipython3",
  "version": 3
 },
 "cells": [
  {
   "cell_type": "code",
   "execution_count": 1,
   "metadata": {},
   "outputs": [],
   "source": [
    "with open('inputs/07.txt') as file:\n",
    "    input = file.read()\n",
    "\n",
    "from itertools import permutations\n"
   ]
  },
  {
   "cell_type": "code",
   "execution_count": 2,
   "metadata": {},
   "outputs": [],
   "source": [
    "def run(mem):\n",
    "    i = 0\n",
    "    def get(j,m):\n",
    "        p = i+j\n",
    "        if m == 0:\n",
    "            p = mem[p]\n",
    "        return p\n",
    "    while 1:\n",
    "        s = ('0000'+str(mem[i]))[-5:]\n",
    "        a,b,c,op = int(s[0]), int(s[1]), int(s[2]), int(s[3:])\n",
    "        if op == 1:\n",
    "            x = get(1,c)\n",
    "            y = get(2,b)\n",
    "            p = get(3,a)\n",
    "            mem[p] = mem[x] + mem[y]\n",
    "            i += 4\n",
    "        elif op == 2:\n",
    "            x = get(1,c)\n",
    "            y = get(2,b)\n",
    "            p = get(3,a)\n",
    "            mem[p] = mem[x] * mem[y]\n",
    "            i += 4\n",
    "        elif op == 3:\n",
    "            p = get(1,c)\n",
    "            mem[p] = yield\n",
    "            i += 2\n",
    "        elif op == 4:\n",
    "            p = get(1,c)\n",
    "            yield mem[p]\n",
    "            i += 2\n",
    "        elif op == 5:\n",
    "            x = get(1,c)\n",
    "            y = get(2,b)\n",
    "            if mem[x]:\n",
    "                i = mem[y]\n",
    "            else:\n",
    "                i += 3\n",
    "        elif op == 6:\n",
    "            x = get(1,c)\n",
    "            y = get(2,b)\n",
    "            if not mem[x]:\n",
    "                i = mem[y]\n",
    "            else:\n",
    "                i += 3\n",
    "        elif op == 7:\n",
    "            x = get(1,c)\n",
    "            y = get(2,b)\n",
    "            p = get(3,a)\n",
    "            mem[p] = int(mem[x] < mem[y])\n",
    "            i += 4\n",
    "        elif op == 8:\n",
    "            x = get(1,c)\n",
    "            y = get(2,b)\n",
    "            p = get(3,a)\n",
    "            mem[p] = int(mem[x] == mem[y])\n",
    "            i += 4\n",
    "        elif op == 99:\n",
    "            return\n",
    "        else:\n",
    "            raise Exception('Unknown opcode', op)\n",
    "            break\n"
   ]
  },
  {
   "cell_type": "code",
   "execution_count": 3,
   "metadata": {},
   "outputs": [
    {
     "name": "stdout",
     "output_type": "stream",
     "text": "Wall time: 22.9 ms\n"
    },
    {
     "data": {
      "text/plain": "95757"
     },
     "execution_count": 3,
     "metadata": {},
     "output_type": "execute_result"
    }
   ],
   "source": [
    "%%time\n",
    "\n",
    "prog = list(map(int, input.split(',')))\n",
    "\n",
    "maxsignal = 0\n",
    "for amps in permutations(range(5),5):\n",
    "    signal = 0\n",
    "    for amp in amps:\n",
    "        proc = run(prog[:])\n",
    "        next(proc)\n",
    "        proc.send(amp)\n",
    "        signal = proc.send(signal)\n",
    "    if maxsignal<signal: maxsignal = signal\n",
    "maxsignal\n"
   ]
  },
  {
   "cell_type": "code",
   "execution_count": 4,
   "metadata": {},
   "outputs": [
    {
     "name": "stdout",
     "output_type": "stream",
     "text": "Wall time: 78.8 ms\n"
    },
    {
     "data": {
      "text/plain": "4275738"
     },
     "execution_count": 4,
     "metadata": {},
     "output_type": "execute_result"
    }
   ],
   "source": [
    "%%time\n",
    "\n",
    "# prog = [3,26,1001,26,-4,26,3,27,1002,27,2,27,1,27,26,27,4,27,1001,28,-1,28,1005,28,6,99,0,0,5]\n",
    "# prog = [3,52,1001,52,-5,52,3,53,1,52,56,54,1007,54,5,55,1005,55,26,1001,54,-5,54,1105,1,12,1,53,54,53,1008,54,0,55,1001,55,1,55,2,53,55,53,4,53,1001,56,-1,56,1005,56,6,99,0,0,0,0,10]\n",
    "prog = list(map(int, input.split(',')))\n",
    "\n",
    "\n",
    "maxsignal = 0\n",
    "for amps in permutations(range(5,10),5):\n",
    "    procs = []\n",
    "    for amp in amps:\n",
    "        proc = run(prog[:])\n",
    "        next(proc)\n",
    "        proc.send(amp)\n",
    "        procs.append(proc)\n",
    "    signal = 0\n",
    "    try:\n",
    "        for proc in procs:\n",
    "            signal = proc.send(signal)\n",
    "        while 1:\n",
    "            for proc in procs:\n",
    "                next(proc) # last was output yield, so we need to wait for input yield.\n",
    "                signal = proc.send(signal)\n",
    "    except:\n",
    "        if maxsignal<signal: maxsignal = signal\n",
    "\n",
    "maxsignal\n"
   ]
  },
  {
   "cell_type": "code",
   "execution_count": null,
   "metadata": {},
   "outputs": [],
   "source": []
  }
 ]
}