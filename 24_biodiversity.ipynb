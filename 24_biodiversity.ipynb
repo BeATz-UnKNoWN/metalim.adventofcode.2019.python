{
 "nbformat": 4,
 "nbformat_minor": 2,
 "metadata": {
  "language_info": {
   "name": "python",
   "codemirror_mode": {
    "name": "ipython",
    "version": 3
   },
   "version": "3.7.1"
  },
  "orig_nbformat": 2,
  "file_extension": ".py",
  "mimetype": "text/x-python",
  "name": "python",
  "npconvert_exporter": "python",
  "pygments_lexer": "ipython3",
  "version": 3
 },
 "cells": [
  {
   "cell_type": "code",
   "execution_count": 1,
   "metadata": {},
   "outputs": [],
   "source": [
    "from itertools import count\n",
    "from collections import defaultdict\n",
    "\n",
    "with open('inputs/24.txt') as file:\n",
    "    input = file.read()\n",
    "\n",
    "lines = input.split('\\n')\n"
   ]
  },
  {
   "cell_type": "code",
   "execution_count": 11,
   "metadata": {},
   "outputs": [],
   "source": [
    "def parse(lines):\n",
    "    bugs = defaultdict(lambda:0)\n",
    "    for y in range(5):\n",
    "        for x in range(5):\n",
    "            bugs[complex(x,y)] = 1 if lines[y][x]=='#' else 0\n",
    "    return bugs\n",
    "\n",
    "def pretty(step,bugs):\n",
    "    print(step)\n",
    "    for y in range(5):\n",
    "        l = ''\n",
    "        for x in range(5):\n",
    "            l+='.#'[bugs[complex(x,y)]]\n",
    "        print(l)\n",
    "\n",
    "def iterate1(bugs):\n",
    "    nxt = defaultdict(lambda:0)\n",
    "    visited = {repr(dict(bugs)):0}\n",
    "    for step in count(1):\n",
    "        for y in range(5):\n",
    "            for x in range(5):\n",
    "                p = complex(x,y)\n",
    "                c = bugs[p]\n",
    "                ns = bugs[p+1]+bugs[p-1]+bugs[p+1j]+bugs[p-1j]\n",
    "                nxt[p] = int(ns==1 or ns==2 and not c)\n",
    "        bugs,nxt = nxt,bugs\n",
    "        s = repr(dict(bugs))\n",
    "        if s in visited:\n",
    "            break\n",
    "        visited[s]=step\n",
    "\n",
    "    biodiv = 0\n",
    "    for y in range(5):\n",
    "        for x in range(5):\n",
    "            dx = 2**x\n",
    "            dy = 32**y\n",
    "            c = bugs[complex(x,y)]\n",
    "            biodiv += c*dx*dy\n",
    "    return biodiv\n"
   ]
  },
  {
   "cell_type": "code",
   "execution_count": 13,
   "metadata": {},
   "outputs": [
    {
     "name": "stdout",
     "output_type": "stream",
     "text": "Wall time: 1.99 ms\n"
    },
    {
     "data": {
      "text/plain": "17863741"
     },
     "execution_count": 13,
     "metadata": {},
     "output_type": "execute_result"
    }
   ],
   "source": [
    "%%time\n",
    "\n",
    "iterate1(parse(lines))"
   ]
  },
  {
   "cell_type": "code",
   "execution_count": 19,
   "metadata": {},
   "outputs": [],
   "source": [
    "def iterate2(bugs):\n",
    "    l,r=0,0\n",
    "    layers = defaultdict(lambda: defaultdict(lambda: 0))\n",
    "    layers[0] = bugs\n",
    "    # TODO\n"
   ]
  },
  {
   "cell_type": "code",
   "execution_count": 20,
   "metadata": {},
   "outputs": [
    {
     "name": "stdout",
     "output_type": "stream",
     "text": "Wall time: 0 ns\n"
    }
   ],
   "source": [
    "%%time\n",
    "\n",
    "iterate2(parse(lines))\n"
   ]
  },
  {
   "cell_type": "code",
   "execution_count": null,
   "metadata": {},
   "outputs": [],
   "source": []
  }
 ]
}