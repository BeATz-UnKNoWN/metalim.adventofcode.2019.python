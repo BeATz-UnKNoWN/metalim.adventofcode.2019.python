{
 "nbformat": 4,
 "nbformat_minor": 2,
 "metadata": {
  "language_info": {
   "name": "python",
   "codemirror_mode": {
    "name": "ipython",
    "version": 3
   },
   "version": "3.7.4"
  },
  "orig_nbformat": 2,
  "file_extension": ".py",
  "mimetype": "text/x-python",
  "name": "python",
  "npconvert_exporter": "python",
  "pygments_lexer": "ipython3",
  "version": 3
 },
 "cells": [
  {
   "cell_type": "code",
   "execution_count": 1,
   "metadata": {},
   "outputs": [],
   "source": [
    "with open('inputs/12.txt') as file:\n",
    "    input = file.read()\n"
   ]
  },
  {
   "cell_type": "code",
   "execution_count": 2,
   "metadata": {},
   "outputs": [
    {
     "data": {
      "text/plain": "[[0, 4, 0], [-10, -6, -14], [9, -16, -3], [6, -1, 2]]"
     },
     "execution_count": 2,
     "metadata": {},
     "output_type": "execute_result"
    }
   ],
   "source": [
    "import re\n",
    "coords = list(map((lambda s:list(map(int, re.findall(r'-?\\d+', s)))),input.split('\\n')))\n",
    "coords\n"
   ]
  },
  {
   "cell_type": "code",
   "execution_count": 3,
   "metadata": {},
   "outputs": [
    {
     "data": {
      "text/plain": "[[[-16, 79, -15], [9, 0, 1]],\n [[124, -44, 39], [-16, -16, -12]],\n [[-57, -47, -4], [2, 7, 6]],\n [[-46, -7, -35], [5, 9, 5]]]"
     },
     "execution_count": 3,
     "metadata": {},
     "output_type": "execute_result"
    }
   ],
   "source": [
    "import itertools as it\n",
    "\n",
    "moons = [[coord,[0]*3] for coord in coords]\n",
    "\n",
    "for step in range(1000):\n",
    "    for a,b in it.permutations(moons,2):\n",
    "        a[1] = [v+(p<s)-(p>s) for v,p,s in zip(a[1],a[0],b[0])]\n",
    "    for m in moons:\n",
    "        m[0] = [p+v for p,v in zip(m[0],m[1])]\n",
    "moons\n"
   ]
  },
  {
   "cell_type": "code",
   "execution_count": 4,
   "metadata": {},
   "outputs": [
    {
     "data": {
      "text/plain": "13500"
     },
     "execution_count": 4,
     "metadata": {},
     "output_type": "execute_result"
    }
   ],
   "source": [
    "e = 0\n",
    "sum(sum(map(abs,m[0]))*sum(map(abs,m[1])) for m in moons)\n"
   ]
  },
  {
   "cell_type": "markdown",
   "execution_count": 64,
   "metadata": {},
   "outputs": [],
   "source": [
    "oh fuck! \"Of course, the universe might last for a very long time before repeating.\""
   ]
  },
  {
   "cell_type": "code",
   "execution_count": 5,
   "metadata": {},
   "outputs": [
    {
     "name": "stdout",
     "output_type": "stream",
     "text": "loop [[0, 0], [-10, 0], [9, 0], [6, 0]] 286332 0\nloop [[4, 0], [-6, 0], [-16, 0], [-1, 0]] 161428 0\nloop [[0, 0], [-14, 0], [-3, 0], [2, 0]] 96236 0\n"
    },
    {
     "data": {
      "text/plain": "278013787106916"
     },
     "execution_count": 5,
     "metadata": {},
     "output_type": "execute_result"
    }
   ],
   "source": [
    "\n",
    "# the trick is: movements in x, y and z are uncorrelated, so we can find 3 separate loops.\n",
    "\n",
    "planes = [[[coord[i],0] for coord in coords] for i in range(3)]\n",
    "\n",
    "def gcd(a,b):\n",
    "    if a == 0:\n",
    "        return b\n",
    "    return gcd(b%a,a)\n",
    "\n",
    "loop = 1\n",
    "for plane in planes:\n",
    "    states = {repr(plane):0}\n",
    "    step = 0\n",
    "    while 1:\n",
    "        step += 1\n",
    "        for a,b in it.permutations(plane,2):\n",
    "            a[1] += (a[0]<b[0])-(a[0]>b[0])\n",
    "        for m in plane:\n",
    "            m[0] += m[1]\n",
    "        k = repr(plane)\n",
    "        if k in states:\n",
    "            print('loop',k,step,states[k])\n",
    "            loop = (step*loop//gcd(step,loop))\n",
    "            break\n",
    "        states[k] = step\n",
    "\n",
    "loop\n"
   ]
  },
  {
   "cell_type": "code",
   "execution_count": null,
   "metadata": {},
   "outputs": [],
   "source": []
  }
 ]
}