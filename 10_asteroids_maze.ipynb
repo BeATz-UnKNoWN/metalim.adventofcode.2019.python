{
 "nbformat": 4,
 "nbformat_minor": 2,
 "metadata": {
  "language_info": {
   "name": "python",
   "codemirror_mode": {
    "name": "ipython",
    "version": 3
   },
   "version": "3.7.1"
  },
  "orig_nbformat": 2,
  "file_extension": ".py",
  "mimetype": "text/x-python",
  "name": "python",
  "npconvert_exporter": "python",
  "pygments_lexer": "ipython3",
  "version": 3
 },
 "cells": [
  {
   "cell_type": "markdown",
   "execution_count": null,
   "metadata": {},
   "outputs": [],
   "source": [
    "After solving the task, I've looked at solutions by hardcore Python developers.\n",
    "Heck, they are compact, but way too cryptic.\n",
    "Thinking if it's possible to design a language where solution would be both compact and **readable**.\n"
   ]
  },
  {
   "cell_type": "code",
   "execution_count": 1,
   "metadata": {},
   "outputs": [
    {
     "data": {
      "text/plain": "(31, 31)"
     },
     "execution_count": 1,
     "metadata": {},
     "output_type": "execute_result"
    }
   ],
   "source": [
    "import math\n",
    "\n",
    "with open('inputs/10.txt') as file:\n",
    "    input = file.read()\n",
    "\n",
    "maze = input.split()\n",
    "H = len(maze)\n",
    "W = len(maze[0])\n",
    "W,H\n"
   ]
  },
  {
   "cell_type": "code",
   "execution_count": 2,
   "metadata": {},
   "outputs": [
    {
     "name": "stdout",
     "output_type": "stream",
     "text": "Wall time: 217 ms\n"
    },
    {
     "data": {
      "text/plain": "288"
     },
     "execution_count": 2,
     "metadata": {},
     "output_type": "execute_result"
    }
   ],
   "source": [
    "%%time\n",
    "\n",
    "ms = [r[:] for r in [[0]*W]*H]\n",
    "for y in range(0,H):\n",
    "    for x in range(0,W):\n",
    "        if maze[y][x] != '#': continue\n",
    "        for y2 in range(0,H):\n",
    "            for x2 in range(0,W):\n",
    "                if maze[y2][x2] != '#': continue\n",
    "                if x==x2 and y==y2: continue\n",
    "                d = math.gcd(y-y2,x-x2)\n",
    "                dx = (x2-x)//d\n",
    "                dy = (y2-y)//d\n",
    "                for i in range(1,d):\n",
    "                    x3 = x+i*dx\n",
    "                    y3 = y+i*dy\n",
    "                    if maze[y3][x3] == '#':\n",
    "                        break\n",
    "                else:\n",
    "                    ms[y][x]+=1\n",
    "\n",
    "max(map(max,ms))\n"
   ]
  },
  {
   "cell_type": "code",
   "execution_count": 3,
   "metadata": {},
   "outputs": [
    {
     "name": "stdout",
     "output_type": "stream",
     "text": "Wall time: 0 ns\n"
    },
    {
     "data": {
      "text/plain": "(288, 17, 22)"
     },
     "execution_count": 3,
     "metadata": {},
     "output_type": "execute_result"
    }
   ],
   "source": [
    "%%time\n",
    "\n",
    "m0,x0,y0 = 0,0,0\n",
    "for y,row in enumerate(ms):\n",
    "    for x,m in enumerate(row):\n",
    "        if m0<m: m0,x0,y0=m,x,y\n",
    "m0,x0,y0\n"
   ]
  },
  {
   "cell_type": "code",
   "execution_count": 4,
   "metadata": {},
   "outputs": [
    {
     "name": "stdout",
     "output_type": "stream",
     "text": "Wall time: 22.9 ms\n"
    },
    {
     "data": {
      "text/plain": "(5.21173570206482, 6, 16)"
     },
     "execution_count": 4,
     "metadata": {},
     "output_type": "execute_result"
    }
   ],
   "source": [
    "%%time\n",
    "\n",
    "# while total>0:\n",
    "# ^ cycles are not needed for my input, as we vaporize 288 in first cycle.\n",
    "\n",
    "vaporize = []\n",
    "\n",
    "for y,row in enumerate(maze):\n",
    "    for x,b in enumerate(row):\n",
    "        if x==x0 and y==y0: continue\n",
    "        if b!='#': continue\n",
    "        d = math.gcd(y-y0,x-x0)\n",
    "        dx = (x-x0)//d\n",
    "        dy = (y-y0)//d\n",
    "        for i in range(1,d):\n",
    "            x2 = x0+i*dx\n",
    "            y2 = y0+i*dy\n",
    "            if maze[y2][x2] == '#':\n",
    "                break\n",
    "        else:\n",
    "            vaporize.append((math.pi - math.atan2(x-x0,y-y0),x,y))\n",
    "vaporize.sort()\n",
    "vaporize[199]\n"
   ]
  },
  {
   "cell_type": "code",
   "execution_count": null,
   "metadata": {},
   "outputs": [],
   "source": []
  }
 ]
}