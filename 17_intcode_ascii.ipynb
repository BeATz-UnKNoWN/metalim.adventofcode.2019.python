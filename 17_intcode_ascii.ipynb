{
 "nbformat": 4,
 "nbformat_minor": 2,
 "metadata": {
  "language_info": {
   "name": "python",
   "codemirror_mode": {
    "name": "ipython",
    "version": 3
   },
   "version": "3.7.1"
  },
  "orig_nbformat": 2,
  "file_extension": ".py",
  "mimetype": "text/x-python",
  "name": "python",
  "npconvert_exporter": "python",
  "pygments_lexer": "ipython3",
  "version": 3
 },
 "cells": [
  {
   "cell_type": "code",
   "execution_count": 1,
   "metadata": {},
   "outputs": [],
   "source": [
    "import intcode\n",
    "\n",
    "with open('inputs/17.txt') as file:\n",
    "    input = file.read()\n"
   ]
  },
  {
   "cell_type": "code",
   "execution_count": 2,
   "metadata": {},
   "outputs": [
    {
     "name": "stdout",
     "output_type": "stream",
     "text": "7404\n....................................#########\n....................................#.......#\n....................................#.......#\n....................................#.......#\n........................#######.....#.......#\n........................#.....#.....#.......#\n........................#.....#.####O########\n........................#.....#.#...#........\n........................#.....#.#...#######..\n........................#.....#.#.........#..\n........................#.....#.#.........#..\n........................#.....#.#.........#..\n........................######O##.........#..\n..............................#...........#..\n..............................#...........#..\n..............................#...........#..\n..............................######^.....#..\n..........................................#..\n..........................................#..\n..........................................#..\n..................................#########..\n..................................#..........\n............#########.............#..........\n............#.......#.............#..........\n..........##O#######O##.........##O####......\n..........#.#.......#.#.........#.#...#......\n....#####.#.#.......#.#.........#.#...#......\n....#...#.#.#.......#.#.........#.#...#......\n####O###O#O##.......#.#...#####.#.#####......\n#...#...#.#.........#.#...#...#.#............\n#...####O##.........##O###O###O##............\n#.......#.............#...#...#..............\n#.......#.............####O####..............\n#.......#.................#..................\n#########.................#######............\n................................#............\n................................#............\n................................#............\n..............................##O######......\n................................#.....#......\n................................#.....#......\n................................#.....#......\n................................#.....#......\n................................#.....#......\n................................#.....#......\n................................#.....#......\n................................#######......\nWall time: 89.8 ms\n"
    }
   ],
   "source": [
    "%%time\n",
    "\n",
    "prog = intcode.parse(input)\n",
    "proc = intcode.run(prog)\n",
    "\n",
    "view = ''\n",
    "try:\n",
    "    while 1:\n",
    "        c = next(proc)\n",
    "        view += chr(c)\n",
    "except StopIteration:\n",
    "    pass\n",
    "\n",
    "f = [[c for c in row] for row in view.strip().split('\\n')]\n",
    "sum = 0\n",
    "for y in range(1,len(f)-1):\n",
    "    for x in range(1,len(f[0])-1):\n",
    "        if f[y][x]!='#': continue\n",
    "        if '.' not in [f[y-1][x],f[y+1][x],f[y][x-1],f[y][x-1]]:\n",
    "            f[y][x]='O'\n",
    "            sum += x*y\n",
    "print(sum)\n",
    "print('\\n'.join([''.join(row) for row in f]))\n"
   ]
  },
  {
   "cell_type": "code",
   "execution_count": 3,
   "metadata": {},
   "outputs": [
    {
     "name": "stdout",
     "output_type": "stream",
     "text": "Main:\n$ A,A,B,C,B,A,C,B,C,A\nFunction A:\n$ L,6,R,12,L,6,L,8,L,8\nFunction B:\n$ L,6,R,12,R,8,L,8\nFunction C:\n$ L,4,L,4,L,6\nContinuous video feed?\n> n\nWall time: 180 ms\n"
    },
    {
     "data": {
      "text/plain": "929045"
     },
     "execution_count": 3,
     "metadata": {},
     "output_type": "execute_result"
    }
   ],
   "source": [
    "%%time\n",
    "\n",
    "Main = 'A,A,B,C,B,A,C,B,C,A'\n",
    "A = 'L,6,R,12,L,6,L,8,L,8'\n",
    "B = 'L,6,R,12,R,8,L,8'\n",
    "C = 'L,4,L,4,L,6'\n",
    "code = [Main,A,B,C]\n",
    "\n",
    "prog = intcode.parse(input)\n",
    "prog[0] = 2\n",
    "proc = intcode.run(prog)\n",
    "try:\n",
    "    q = -1\n",
    "    view = ''\n",
    "    while 1:\n",
    "        q = next(proc)\n",
    "        if q == None: break\n",
    "        view += chr(q)\n",
    "    print(view.strip().split('\\n')[-1])\n",
    "\n",
    "    for part in code:\n",
    "        print('$ '+part)\n",
    "        for c in part:\n",
    "            q = proc.send(ord(c))\n",
    "        q = proc.send(10)\n",
    "        req = ''\n",
    "        while q!=None:\n",
    "            req += chr(q)\n",
    "            q = next(proc)\n",
    "        print(req.strip())\n",
    "\n",
    "    print('> n')\n",
    "    proc.send(ord('n'))\n",
    "    dust = proc.send(10)\n",
    "    while 1:\n",
    "        dust = next(proc)\n",
    "\n",
    "except StopIteration:\n",
    "    pass\n",
    "\n",
    "dust\n"
   ]
  },
  {
   "cell_type": "code",
   "execution_count": null,
   "metadata": {},
   "outputs": [],
   "source": []
  }
 ]
}