{
 "nbformat": 4,
 "nbformat_minor": 2,
 "metadata": {
  "language_info": {
   "name": "python",
   "codemirror_mode": {
    "name": "ipython",
    "version": 3
   },
   "version": "3.7.1"
  },
  "orig_nbformat": 2,
  "file_extension": ".py",
  "mimetype": "text/x-python",
  "name": "python",
  "npconvert_exporter": "python",
  "pygments_lexer": "ipython3",
  "version": 3
 },
 "cells": [
  {
   "cell_type": "code",
   "execution_count": 1,
   "metadata": {},
   "outputs": [],
   "source": [
    "with open('inputs/16.txt') as file:\n",
    "    input = file.read()\n"
   ]
  },
  {
   "cell_type": "code",
   "execution_count": 2,
   "metadata": {},
   "outputs": [],
   "source": [
    "pat = [0,1,0,-1]\n",
    "\n",
    "def calc1(ns, phases):\n",
    "    ns2 = [0]*len(ns)\n",
    "    for phase in range(phases):\n",
    "        # print('phase', phase)\n",
    "        for i in range(len(ns)):\n",
    "            val = 0\n",
    "            for j in range(len(ns)):\n",
    "                k = ((j+1)//(i+1))%4\n",
    "                # print(i,j,k, '->', ns[j],pat[k])\n",
    "                val += ns[j] * pat[k]\n",
    "            ns2[i] = abs(val)%10\n",
    "        ns,ns2 = ns2,ns\n",
    "        # print(phase, ''.join(str(n) for n in ns))\n",
    "    return ''.join(str(n) for n in ns[:8])\n"
   ]
  },
  {
   "cell_type": "code",
   "execution_count": 3,
   "metadata": {},
   "outputs": [
    {
     "name": "stdout",
     "output_type": "stream",
     "text": "650\nWall time: 8.54 s\n"
    },
    {
     "data": {
      "text/plain": "'10189359'"
     },
     "execution_count": 3,
     "metadata": {},
     "output_type": "execute_result"
    }
   ],
   "source": [
    "%%time\n",
    "\n",
    "# input2 = '12345678'\n",
    "# input2 = '80871224585914546619083218645595'\n",
    "# input2 = '19617804207202209144916044189917'\n",
    "# input2 = '69317163492948606335995924319873'\n",
    "ns = list(map(int,input))\n",
    "print(len(ns))\n",
    "\n",
    "calc1(ns,100)\n"
   ]
  },
  {
   "cell_type": "code",
   "execution_count": null,
   "metadata": {},
   "outputs": [],
   "source": []
  }
 ]
}