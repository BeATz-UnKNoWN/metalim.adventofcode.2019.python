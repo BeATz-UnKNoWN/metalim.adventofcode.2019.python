{
 "nbformat": 4,
 "nbformat_minor": 2,
 "metadata": {
  "language_info": {
   "name": "python",
   "codemirror_mode": {
    "name": "ipython",
    "version": 3
   },
   "version": "3.7.1"
  },
  "orig_nbformat": 2,
  "file_extension": ".py",
  "mimetype": "text/x-python",
  "name": "python",
  "npconvert_exporter": "python",
  "pygments_lexer": "ipython3",
  "version": 3
 },
 "cells": [
  {
   "cell_type": "code",
   "execution_count": 1,
   "metadata": {},
   "outputs": [],
   "source": [
    "import re\n",
    "\n",
    "with open('inputs/22.txt') as file:\n",
    "    input = file.read()\n"
   ]
  },
  {
   "cell_type": "code",
   "execution_count": 2,
   "metadata": {},
   "outputs": [
    {
     "name": "stdout",
     "output_type": "stream",
     "text": "Wall time: 103 ms\n"
    },
    {
     "data": {
      "text/plain": "2480"
     },
     "execution_count": 2,
     "metadata": {},
     "output_type": "execute_result"
    }
   ],
   "source": [
    "%%time\n",
    "\n",
    "def shuffle(deck, rules):\n",
    "    for s in rules:\n",
    "        if s == 'deal into new stack':\n",
    "            deck.reverse()\n",
    "            continue\n",
    "        match = re.match(r'cut (-?\\d+)', s)\n",
    "        if match != None:\n",
    "            n = int(match.group(1))\n",
    "            deck = deck[n:]+deck[:n]\n",
    "            continue\n",
    "        match = re.match(r'deal with increment (\\d+)', s)\n",
    "        if match != None:\n",
    "            n = int(match.group(1))\n",
    "            ndeck = [0]*len(deck)\n",
    "            for i in range(len(deck)):\n",
    "                ndeck[(i*n)%len(deck)] = deck[i]\n",
    "            deck = ndeck\n",
    "    return deck\n",
    "\n",
    "deck = shuffle(list(range(10007)), input.split('\\n'))\n",
    "deck.index(2019)\n"
   ]
  },
  {
   "cell_type": "code",
   "execution_count": 3,
   "metadata": {},
   "outputs": [
    {
     "name": "stdout",
     "output_type": "stream",
     "text": "Wall time: 0 ns\n"
    },
    {
     "data": {
      "text/plain": "12139369866491111222698357067"
     },
     "execution_count": 3,
     "metadata": {},
     "output_type": "execute_result"
    }
   ],
   "source": [
    "%%time\n",
    "\n",
    "# Uh-oh...\n",
    "119315717514047 * 101741582076661\n"
   ]
  },
  {
   "cell_type": "code",
   "execution_count": null,
   "metadata": {},
   "outputs": [],
   "source": []
  }
 ]
}